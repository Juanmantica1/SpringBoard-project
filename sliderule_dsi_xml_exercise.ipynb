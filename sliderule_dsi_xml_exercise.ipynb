{
 "cells": [
  {
   "cell_type": "markdown",
   "metadata": {},
   "source": [
    "# XML example and exercise\n",
    "****\n",
    "+ study examples of accessing nodes in XML tree structure  \n",
    "+ work on exercise to be completed and submitted\n",
    "****\n",
    "+ reference: https://docs.python.org/2.7/library/xml.etree.elementtree.html\n",
    "+ data source: http://www.dbis.informatik.uni-goettingen.de/Mondial\n",
    "****"
   ]
  },
  {
   "cell_type": "code",
   "execution_count": 2,
   "metadata": {
    "collapsed": true
   },
   "outputs": [],
   "source": [
    "from xml.etree import ElementTree as ET"
   ]
  },
  {
   "cell_type": "markdown",
   "metadata": {},
   "source": [
    "## XML example\n",
    "\n",
    "+ for details about tree traversal and iterators, see https://docs.python.org/2.7/library/xml.etree.elementtree.html"
   ]
  },
  {
   "cell_type": "code",
   "execution_count": 3,
   "metadata": {
    "collapsed": true
   },
   "outputs": [],
   "source": [
    "document_tree = ET.parse( './data/mondial_database_less.xml' )"
   ]
  },
  {
   "cell_type": "code",
   "execution_count": 4,
   "metadata": {},
   "outputs": [
    {
     "name": "stdout",
     "output_type": "stream",
     "text": [
      "Albania\n",
      "Greece\n",
      "Macedonia\n",
      "Serbia\n",
      "Montenegro\n",
      "Kosovo\n",
      "Andorra\n"
     ]
    }
   ],
   "source": [
    "# print names of all countries\n",
    "for child in document_tree.getroot():\n",
    "    print child.find('name').text"
   ]
  },
  {
   "cell_type": "code",
   "execution_count": 5,
   "metadata": {},
   "outputs": [
    {
     "name": "stdout",
     "output_type": "stream",
     "text": [
      "* Albania: Tirana, Shkodër, Durrës, Vlorë, Elbasan, Korçë\n",
      "* Greece: Komotini, Kavala, Athina, Peiraias, Peristeri, Acharnes, Patra, Kozani, Kerkyra, Ioannina, Thessaloniki, Iraklio, Chania, Ermoupoli, Rhodes, Tripoli, Lamia, Chalkida, Larissa, Volos, Mytilini, Karyes\n",
      "* Macedonia: Skopje, Kumanovo\n",
      "* Serbia: Beograd, Novi Sad, Niš\n",
      "* Montenegro: Podgorica\n",
      "* Kosovo: Prishtine\n",
      "* Andorra: Andorra la Vella\n"
     ]
    }
   ],
   "source": [
    "# print names of all countries and their cities\n",
    "for element in document_tree.iterfind('country'):\n",
    "    print '* ' + element.find('name').text + ':',\n",
    "    capitals_string = ''\n",
    "    for subelement in element.getiterator('city'):\n",
    "        capitals_string += subelement.find('name').text + ', '\n",
    "    print capitals_string[:-2]"
   ]
  },
  {
   "cell_type": "markdown",
   "metadata": {},
   "source": [
    "****\n",
    "## XML exercise\n",
    "\n",
    "Using data in 'data/mondial_database.xml', the examples above, and refering to https://docs.python.org/2.7/library/xml.etree.elementtree.html, find\n",
    "\n",
    "1. 10 countries with the lowest infant mortality rates\n",
    "2. 10 cities with the largest population\n",
    "3. 10 ethnic groups with the largest overall populations (sum of best/latest estimates over all countries)\n",
    "4. name and country of a) longest river, b) largest lake and c) airport at highest elevation"
   ]
  },
  {
   "cell_type": "code",
   "execution_count": 6,
   "metadata": {
    "collapsed": true
   },
   "outputs": [],
   "source": [
    "document = ET.parse( './data/mondial_database.xml' )\n",
    "root=document.getroot()"
   ]
  },
  {
   "cell_type": "code",
   "execution_count": 7,
   "metadata": {},
   "outputs": [
    {
     "data": {
      "text/html": [
       "<div>\n",
       "<style>\n",
       "    .dataframe thead tr:only-child th {\n",
       "        text-align: right;\n",
       "    }\n",
       "\n",
       "    .dataframe thead th {\n",
       "        text-align: left;\n",
       "    }\n",
       "\n",
       "    .dataframe tbody tr th {\n",
       "        vertical-align: top;\n",
       "    }\n",
       "</style>\n",
       "<table border=\"1\" class=\"dataframe\">\n",
       "  <thead>\n",
       "    <tr style=\"text-align: right;\">\n",
       "      <th></th>\n",
       "      <th>Country</th>\n",
       "      <th>Infant_Mortality</th>\n",
       "    </tr>\n",
       "  </thead>\n",
       "  <tbody>\n",
       "    <tr>\n",
       "      <th>34</th>\n",
       "      <td>Monaco</td>\n",
       "      <td>1.81</td>\n",
       "    </tr>\n",
       "    <tr>\n",
       "      <th>210</th>\n",
       "      <td>Japan</td>\n",
       "      <td>2.13</td>\n",
       "    </tr>\n",
       "    <tr>\n",
       "      <th>71</th>\n",
       "      <td>Norway</td>\n",
       "      <td>2.48</td>\n",
       "    </tr>\n",
       "    <tr>\n",
       "      <th>64</th>\n",
       "      <td>Bermuda</td>\n",
       "      <td>2.48</td>\n",
       "    </tr>\n",
       "    <tr>\n",
       "      <th>76</th>\n",
       "      <td>Singapore</td>\n",
       "      <td>2.53</td>\n",
       "    </tr>\n",
       "    <tr>\n",
       "      <th>106</th>\n",
       "      <td>Sweden</td>\n",
       "      <td>2.60</td>\n",
       "    </tr>\n",
       "    <tr>\n",
       "      <th>55</th>\n",
       "      <td>Czech Republic</td>\n",
       "      <td>2.63</td>\n",
       "    </tr>\n",
       "    <tr>\n",
       "      <th>143</th>\n",
       "      <td>Hong Kong</td>\n",
       "      <td>2.73</td>\n",
       "    </tr>\n",
       "    <tr>\n",
       "      <th>52</th>\n",
       "      <td>Macao</td>\n",
       "      <td>3.13</td>\n",
       "    </tr>\n",
       "    <tr>\n",
       "      <th>189</th>\n",
       "      <td>Iceland</td>\n",
       "      <td>3.15</td>\n",
       "    </tr>\n",
       "  </tbody>\n",
       "</table>\n",
       "</div>"
      ],
      "text/plain": [
       "            Country  Infant_Mortality\n",
       "34           Monaco              1.81\n",
       "210           Japan              2.13\n",
       "71           Norway              2.48\n",
       "64          Bermuda              2.48\n",
       "76        Singapore              2.53\n",
       "106          Sweden              2.60\n",
       "55   Czech Republic              2.63\n",
       "143       Hong Kong              2.73\n",
       "52            Macao              3.13\n",
       "189         Iceland              3.15"
      ]
     },
     "execution_count": 7,
     "metadata": {},
     "output_type": "execute_result"
    }
   ],
   "source": [
    "\n",
    "import pandas as pd\n",
    "import numpy as np\n",
    "\n",
    "# Put names of all countries, population, and infant_mortality stats in a dictionary\n",
    "country_dict = {}\n",
    "for element in document.iterfind('country'):\n",
    "    for population in element.iterfind('population'):\n",
    "        try:\n",
    "             country_dict[element.find('name').text] = [float(element.find('infant_mortality').text)]\n",
    "        except: \n",
    "            pass\n",
    "country_df = pd.DataFrame.from_dict(country_dict, orient='index') \n",
    "country_df.reset_index(drop=False, inplace=True)\n",
    "country_df.columns = ['Country', 'Infant_Mortality']\n",
    "\n",
    "country_df.sort_values(by='Infant_Mortality').head(10)\n"
   ]
  },
  {
   "cell_type": "code",
   "execution_count": 8,
   "metadata": {},
   "outputs": [
    {
     "data": {
      "text/plain": [
       "<Element 'city' at 0x7f5668885590>"
      ]
     },
     "execution_count": 8,
     "metadata": {},
     "output_type": "execute_result"
    }
   ],
   "source": [
    "city_dict = {}\n",
    "for element in document.iterfind('country'):\n",
    "    for city in element.iterfind('city'):\n",
    "        try:\n",
    "             city_dict[city.find('name').text] = int(city.find('population').text)\n",
    "        except: \n",
    "            pass\n",
    "city"
   ]
  },
  {
   "cell_type": "code",
   "execution_count": 9,
   "metadata": {},
   "outputs": [
    {
     "data": {
      "text/html": [
       "<div>\n",
       "<style>\n",
       "    .dataframe thead tr:only-child th {\n",
       "        text-align: right;\n",
       "    }\n",
       "\n",
       "    .dataframe thead th {\n",
       "        text-align: left;\n",
       "    }\n",
       "\n",
       "    .dataframe tbody tr th {\n",
       "        vertical-align: top;\n",
       "    }\n",
       "</style>\n",
       "<table border=\"1\" class=\"dataframe\">\n",
       "  <thead>\n",
       "    <tr style=\"text-align: right;\">\n",
       "      <th></th>\n",
       "      <th>City</th>\n",
       "      <th>population</th>\n",
       "    </tr>\n",
       "  </thead>\n",
       "  <tbody>\n",
       "    <tr>\n",
       "      <th>318</th>\n",
       "      <td>Seoul</td>\n",
       "      <td>10229262</td>\n",
       "    </tr>\n",
       "    <tr>\n",
       "      <th>45</th>\n",
       "      <td>Hong Kong</td>\n",
       "      <td>7055071</td>\n",
       "    </tr>\n",
       "    <tr>\n",
       "      <th>376</th>\n",
       "      <td>Al Qahirah</td>\n",
       "      <td>6053000</td>\n",
       "    </tr>\n",
       "    <tr>\n",
       "      <th>94</th>\n",
       "      <td>Bangkok</td>\n",
       "      <td>5876000</td>\n",
       "    </tr>\n",
       "    <tr>\n",
       "      <th>8</th>\n",
       "      <td>Ho Chi Minh</td>\n",
       "      <td>3924435</td>\n",
       "    </tr>\n",
       "    <tr>\n",
       "      <th>335</th>\n",
       "      <td>Busan</td>\n",
       "      <td>3813814</td>\n",
       "    </tr>\n",
       "    <tr>\n",
       "      <th>75</th>\n",
       "      <td>New Taipei</td>\n",
       "      <td>3722082</td>\n",
       "    </tr>\n",
       "    <tr>\n",
       "      <th>230</th>\n",
       "      <td>Hanoi</td>\n",
       "      <td>3056146</td>\n",
       "    </tr>\n",
       "    <tr>\n",
       "      <th>287</th>\n",
       "      <td>Al Iskandariyah</td>\n",
       "      <td>2917000</td>\n",
       "    </tr>\n",
       "    <tr>\n",
       "      <th>102</th>\n",
       "      <td>Taipei</td>\n",
       "      <td>2626138</td>\n",
       "    </tr>\n",
       "  </tbody>\n",
       "</table>\n",
       "</div>"
      ],
      "text/plain": [
       "                City  population\n",
       "318            Seoul    10229262\n",
       "45         Hong Kong     7055071\n",
       "376       Al Qahirah     6053000\n",
       "94           Bangkok     5876000\n",
       "8        Ho Chi Minh     3924435\n",
       "335            Busan     3813814\n",
       "75        New Taipei     3722082\n",
       "230            Hanoi     3056146\n",
       "287  Al Iskandariyah     2917000\n",
       "102           Taipei     2626138"
      ]
     },
     "execution_count": 9,
     "metadata": {},
     "output_type": "execute_result"
    }
   ],
   "source": [
    "city_population={}\n",
    "for country in document.findall('country'):\n",
    "    for city in country.findall('city'):\n",
    "        try:\n",
    "            city_population[city.find('name').text] = int(city.find('population').text)\n",
    "        except:\n",
    "            pass\n",
    "city_population\n",
    "city_df=pd.DataFrame.from_dict(city_population,orient='index')\n",
    "city_df.reset_index(drop=False,inplace=True)\n",
    "city_df.columns=['City','population']\n",
    "city_df.sort_values('population',ascending=False).head(10)"
   ]
  },
  {
   "cell_type": "code",
   "execution_count": 10,
   "metadata": {},
   "outputs": [
    {
     "data": {
      "text/html": [
       "<div>\n",
       "<style>\n",
       "    .dataframe thead tr:only-child th {\n",
       "        text-align: right;\n",
       "    }\n",
       "\n",
       "    .dataframe thead th {\n",
       "        text-align: left;\n",
       "    }\n",
       "\n",
       "    .dataframe tbody tr th {\n",
       "        vertical-align: top;\n",
       "    }\n",
       "</style>\n",
       "<table border=\"1\" class=\"dataframe\">\n",
       "  <thead>\n",
       "    <tr style=\"text-align: right;\">\n",
       "      <th></th>\n",
       "      <th>name</th>\n",
       "      <th>population</th>\n",
       "    </tr>\n",
       "  </thead>\n",
       "  <tbody>\n",
       "    <tr>\n",
       "      <th>93</th>\n",
       "      <td>Han Chinese</td>\n",
       "      <td>1.245059e+09</td>\n",
       "    </tr>\n",
       "    <tr>\n",
       "      <th>103</th>\n",
       "      <td>Indo-Aryan</td>\n",
       "      <td>8.718156e+08</td>\n",
       "    </tr>\n",
       "    <tr>\n",
       "      <th>16</th>\n",
       "      <td>European</td>\n",
       "      <td>4.948722e+08</td>\n",
       "    </tr>\n",
       "    <tr>\n",
       "      <th>124</th>\n",
       "      <td>African</td>\n",
       "      <td>3.183251e+08</td>\n",
       "    </tr>\n",
       "    <tr>\n",
       "      <th>178</th>\n",
       "      <td>Dravidian</td>\n",
       "      <td>3.027137e+08</td>\n",
       "    </tr>\n",
       "    <tr>\n",
       "      <th>136</th>\n",
       "      <td>Mestizo</td>\n",
       "      <td>1.577344e+08</td>\n",
       "    </tr>\n",
       "    <tr>\n",
       "      <th>183</th>\n",
       "      <td>Bengali</td>\n",
       "      <td>1.467769e+08</td>\n",
       "    </tr>\n",
       "    <tr>\n",
       "      <th>179</th>\n",
       "      <td>Russian</td>\n",
       "      <td>1.318570e+08</td>\n",
       "    </tr>\n",
       "    <tr>\n",
       "      <th>269</th>\n",
       "      <td>Japanese</td>\n",
       "      <td>1.265342e+08</td>\n",
       "    </tr>\n",
       "    <tr>\n",
       "      <th>172</th>\n",
       "      <td>Malay</td>\n",
       "      <td>1.219936e+08</td>\n",
       "    </tr>\n",
       "  </tbody>\n",
       "</table>\n",
       "</div>"
      ],
      "text/plain": [
       "            name    population\n",
       "93   Han Chinese  1.245059e+09\n",
       "103   Indo-Aryan  8.718156e+08\n",
       "16      European  4.948722e+08\n",
       "124      African  3.183251e+08\n",
       "178    Dravidian  3.027137e+08\n",
       "136      Mestizo  1.577344e+08\n",
       "183      Bengali  1.467769e+08\n",
       "179      Russian  1.318570e+08\n",
       "269     Japanese  1.265342e+08\n",
       "172        Malay  1.219936e+08"
      ]
     },
     "execution_count": 10,
     "metadata": {},
     "output_type": "execute_result"
    }
   ],
   "source": [
    "ethnic_population={}\n",
    "for country in document.iterfind('country'):\n",
    "    for ethnic in country.iterfind('ethnicgroup'):\n",
    "        try:\n",
    "            population_percentage=ethnic.attrib['percentage']\n",
    "            name=ethnic.text\n",
    "            for population in country.findall('population'):\n",
    "                year=population.attrib['year']\n",
    "                if population.attrib['year']>=year:\n",
    "                    total_population=population.text\n",
    "            final_population=float(total_population)*float(population_percentage)/100\n",
    "            try:\n",
    "                ethnic_population[name]+=final_population\n",
    "            except:\n",
    "                ethnic_population[name]=final_population\n",
    "        except:\n",
    "            pass\n",
    "def make_final_table(table,c1,c2):\n",
    "    p_array=[]\n",
    "    name_array=[]\n",
    "    for items in ethnic_population:\n",
    "        name_array.append(items)\n",
    "        p_array.append(ethnic_population[items])\n",
    "    f_table={c1:name_array,c2:p_array}\n",
    "    return f_table\n",
    "new_df=pd.DataFrame(make_final_table(ethnic_population,'name','population'))\n",
    "new_df.sort_values('population',ascending=False).head(10)"
   ]
  },
  {
   "cell_type": "code",
   "execution_count": 107,
   "metadata": {},
   "outputs": [
    {
     "data": {
      "text/html": [
       "<div>\n",
       "<style>\n",
       "    .dataframe thead tr:only-child th {\n",
       "        text-align: right;\n",
       "    }\n",
       "\n",
       "    .dataframe thead th {\n",
       "        text-align: left;\n",
       "    }\n",
       "\n",
       "    .dataframe tbody tr th {\n",
       "        vertical-align: top;\n",
       "    }\n",
       "</style>\n",
       "<table border=\"1\" class=\"dataframe\">\n",
       "  <thead>\n",
       "    <tr style=\"text-align: right;\">\n",
       "      <th></th>\n",
       "      <th>car_code</th>\n",
       "      <th>name</th>\n",
       "      <th>length</th>\n",
       "    </tr>\n",
       "  </thead>\n",
       "  <tbody>\n",
       "    <tr>\n",
       "      <th>170</th>\n",
       "      <td>CO BR PE</td>\n",
       "      <td>Amazonas</td>\n",
       "      <td>6448</td>\n",
       "    </tr>\n",
       "  </tbody>\n",
       "</table>\n",
       "</div>"
      ],
      "text/plain": [
       "     car_code      name length\n",
       "170  CO BR PE  Amazonas   6448"
      ]
     },
     "execution_count": 107,
     "metadata": {},
     "output_type": "execute_result"
    }
   ],
   "source": [
    "river1=[]\n",
    "group=[]\n",
    "for river in root.findall('river'):\n",
    "    try:\n",
    "        group = [river.attrib['country'], river.find('name').text, int(river.find('length').text)]\n",
    "        river1.append(group)\n",
    "    except:\n",
    "        pass\n",
    "columns=['car_code','name','length']\n",
    "river_df=pd.DataFrame(columns=columns)\n",
    "river_df = river_df.append(pd.DataFrame(river1, columns=columns), ignore_index=True)\n",
    "river_df.sort_values('length',ascending=False).head(1)"
   ]
  },
  {
   "cell_type": "code",
   "execution_count": 119,
   "metadata": {},
   "outputs": [
    {
     "data": {
      "text/plain": [
       "(     name car_code\n",
       " 1  Brazil       BR,          name car_code\n",
       " 181  Colombia       CO,     name car_code\n",
       " 73  Peru       PE)"
      ]
     },
     "execution_count": 119,
     "metadata": {},
     "output_type": "execute_result"
    }
   ],
   "source": [
    "names_id={}\n",
    "for country in document.findall('country'):\n",
    "    name=country.find('name').text\n",
    "    id1=country.attrib['car_code']\n",
    "    names_id[name]=id1\n",
    "name_df=pd.DataFrame.from_dict(names_id,orient='index')\n",
    "name_df.reset_index(drop=False,inplace=True)\n",
    "name_df.columns=['name','car_code']\n",
    "name_df[name_df.car_code=='BR'],name_df[name_df.car_code=='CO'],name_df[name_df.car_code=='PE']"
   ]
  },
  {
   "cell_type": "markdown",
   "metadata": {
    "collapsed": true
   },
   "source": [
    "'the longest river is the amazons and it is located on Brazil, Peru, Colombia'"
   ]
  },
  {
   "cell_type": "code",
   "execution_count": 137,
   "metadata": {
    "scrolled": true
   },
   "outputs": [
    {
     "data": {
      "text/html": [
       "<div>\n",
       "<style>\n",
       "    .dataframe thead tr:only-child th {\n",
       "        text-align: right;\n",
       "    }\n",
       "\n",
       "    .dataframe thead th {\n",
       "        text-align: left;\n",
       "    }\n",
       "\n",
       "    .dataframe tbody tr th {\n",
       "        vertical-align: top;\n",
       "    }\n",
       "</style>\n",
       "<table border=\"1\" class=\"dataframe\">\n",
       "  <thead>\n",
       "    <tr style=\"text-align: right;\">\n",
       "      <th></th>\n",
       "      <th>car_code</th>\n",
       "      <th>name</th>\n",
       "      <th>length</th>\n",
       "    </tr>\n",
       "  </thead>\n",
       "  <tbody>\n",
       "    <tr>\n",
       "      <th>185</th>\n",
       "      <td>R AZ KAZ IR TM</td>\n",
       "      <td>Caspian Sea</td>\n",
       "      <td>386400</td>\n",
       "    </tr>\n",
       "  </tbody>\n",
       "</table>\n",
       "</div>"
      ],
      "text/plain": [
       "           car_code         name  length\n",
       "185  R AZ KAZ IR TM  Caspian Sea  386400"
      ]
     },
     "execution_count": 137,
     "metadata": {},
     "output_type": "execute_result"
    }
   ],
   "source": [
    "river1=[]\n",
    "group=[]#I am just going to copy paste the same thing I did last time\n",
    "for river in root.findall('lake'):\n",
    "    try:\n",
    "        group = [river.attrib['country'], river.find('name').text, int(river.find('area').text)]\n",
    "        river1.append(group)\n",
    "    except:\n",
    "        pass\n",
    "columns=['car_code','name','length']\n",
    "river_df1=pd.DataFrame(columns=columns)\n",
    "river_df1 = river_df.append(pd.DataFrame(river1, columns=columns), ignore_index=True)\n",
    "river_df1.sort_values('length',ascending=False).head(1)"
   ]
  },
  {
   "cell_type": "code",
   "execution_count": 143,
   "metadata": {
    "scrolled": false
   },
   "outputs": [
    {
     "data": {
      "text/plain": [
       "(       name car_code\n",
       " 106  Russia        R,           name car_code\n",
       " 51  Azerbaijan       AZ,            name car_code\n",
       " 213  Kazakhstan      KAZ,      name car_code\n",
       " 141  Iran       IR,            name car_code\n",
       " 3  Turkmenistan       TM)"
      ]
     },
     "execution_count": 143,
     "metadata": {},
     "output_type": "execute_result"
    }
   ],
   "source": [
    "name_df[name_df.car_code=='R'],name_df[name_df.car_code=='AZ'],name_df[name_df.car_code=='KAZ'],name_df[name_df.car_code=='IR'],name_df[name_df.car_code=='TM']"
   ]
  },
  {
   "cell_type": "markdown",
   "metadata": {},
   "source": [
    "The longest lake is the caspian sea and it is located in Russia, Azerbajan, Kazakhastan, Iran and Turkemenistan"
   ]
  },
  {
   "cell_type": "code",
   "execution_count": 134,
   "metadata": {},
   "outputs": [
    {
     "data": {
      "text/html": [
       "<div>\n",
       "<style>\n",
       "    .dataframe thead tr:only-child th {\n",
       "        text-align: right;\n",
       "    }\n",
       "\n",
       "    .dataframe thead th {\n",
       "        text-align: left;\n",
       "    }\n",
       "\n",
       "    .dataframe tbody tr th {\n",
       "        vertical-align: top;\n",
       "    }\n",
       "</style>\n",
       "<table border=\"1\" class=\"dataframe\">\n",
       "  <thead>\n",
       "    <tr style=\"text-align: right;\">\n",
       "      <th></th>\n",
       "      <th>car_code</th>\n",
       "      <th>name</th>\n",
       "      <th>length</th>\n",
       "    </tr>\n",
       "  </thead>\n",
       "  <tbody>\n",
       "    <tr>\n",
       "      <th>221</th>\n",
       "      <td>BOL</td>\n",
       "      <td>El Alto Intl</td>\n",
       "      <td>4063</td>\n",
       "    </tr>\n",
       "  </tbody>\n",
       "</table>\n",
       "</div>"
      ],
      "text/plain": [
       "    car_code          name length\n",
       "221      BOL  El Alto Intl   4063"
      ]
     },
     "execution_count": 134,
     "metadata": {},
     "output_type": "execute_result"
    }
   ],
   "source": [
    "river1=[]\n",
    "group=[]#I am just going to copy paste the same thing I did last time\n",
    "for river in root.findall('airport'):\n",
    "    try:\n",
    "        group = [river.attrib['country'], river.find('name').text, int(river.find('elevation').text)]\n",
    "        river1.append(group)\n",
    "    except:\n",
    "        pass\n",
    "columns=['car_code','name','length']\n",
    "river_df2=pd.DataFrame(columns=columns)\n",
    "river_df2 = river_df.append(pd.DataFrame(river1, columns=columns), ignore_index=True)\n",
    "river_df2.sort_values('length',ascending=False).head(1)"
   ]
  },
  {
   "cell_type": "code",
   "execution_count": 136,
   "metadata": {},
   "outputs": [
    {
     "data": {
      "text/html": [
       "<div>\n",
       "<style>\n",
       "    .dataframe thead tr:only-child th {\n",
       "        text-align: right;\n",
       "    }\n",
       "\n",
       "    .dataframe thead th {\n",
       "        text-align: left;\n",
       "    }\n",
       "\n",
       "    .dataframe tbody tr th {\n",
       "        vertical-align: top;\n",
       "    }\n",
       "</style>\n",
       "<table border=\"1\" class=\"dataframe\">\n",
       "  <thead>\n",
       "    <tr style=\"text-align: right;\">\n",
       "      <th></th>\n",
       "      <th>car_code</th>\n",
       "      <th>name_x</th>\n",
       "      <th>length</th>\n",
       "      <th>name_y</th>\n",
       "    </tr>\n",
       "  </thead>\n",
       "  <tbody>\n",
       "    <tr>\n",
       "      <th>221</th>\n",
       "      <td>BOL</td>\n",
       "      <td>El Alto Intl</td>\n",
       "      <td>4063</td>\n",
       "      <td>Bolivia</td>\n",
       "    </tr>\n",
       "  </tbody>\n",
       "</table>\n",
       "</div>"
      ],
      "text/plain": [
       "    car_code        name_x length   name_y\n",
       "221      BOL  El Alto Intl   4063  Bolivia"
      ]
     },
     "execution_count": 136,
     "metadata": {},
     "output_type": "execute_result"
    }
   ],
   "source": [
    "airport_df=river_df2.merge(name_df,how='left',on='car_code')\n",
    "airport_df.sort_values('length',ascending=False).head(1)"
   ]
  }
 ],
 "metadata": {
  "kernelspec": {
   "display_name": "Python 2",
   "language": "python",
   "name": "python2"
  },
  "language_info": {
   "codemirror_mode": {
    "name": "ipython",
    "version": 2
   },
   "file_extension": ".py",
   "mimetype": "text/x-python",
   "name": "python",
   "nbconvert_exporter": "python",
   "pygments_lexer": "ipython2",
   "version": "2.7.13"
  }
 },
 "nbformat": 4,
 "nbformat_minor": 1
}
