{
 "cells": [
  {
   "cell_type": "markdown",
   "metadata": {},
   "source": [
    "# MapReduce using SPARK"
   ]
  },
  {
   "cell_type": "code",
   "execution_count": 115,
   "metadata": {},
   "outputs": [
    {
     "name": "stdout",
     "output_type": "stream",
     "text": [
      "Populating the interactive namespace from numpy and matplotlib\n"
     ]
    },
    {
     "name": "stderr",
     "output_type": "stream",
     "text": [
      "/home/juan/anaconda2/lib/python2.7/site-packages/IPython/core/magics/pylab.py:161: UserWarning: pylab import has clobbered these variables: ['e']\n",
      "`%matplotlib` prevents importing * from pylab and numpy\n",
      "  \"\\n`%matplotlib` prevents importing * from pylab and numpy\"\n"
     ]
    }
   ],
   "source": [
    "%pylab inline\n",
    "import pandas as pd\n",
    "import seaborn as sns\n",
    "pd.set_option('display.width', 500)\n",
    "pd.set_option('display.max_columns', 100)"
   ]
  },
  {
   "cell_type": "markdown",
   "metadata": {},
   "source": [
    "# Table of Contents\n",
    "\n",
    "* [SPARK](#SPARK)\n",
    "    * Installing Spark locally\n",
    "* [Spark Context](#Spark-Context)\n",
    "    * [Create A RDD](#Create-A-RDD)\n",
    "    * [Call `collect` on an RDD: Lazy Spark](#Call-collect-on-an-RDD:-Lazy-Spark)\n",
    "    * [Operations on RDDs](#Operations-on-RDDs)\n",
    "    * [Word Examples](#Word-Examples)\n",
    "    * [Key Value Pairs](#Key-Value-Pairs)\n",
    "    * [word count 1](#word-count-1)\n",
    "    * [word count 2:  `reduceByKey()`](#word-count-2:--reduceByKey%28%29)\n",
    "    * [Nested Syntax](#Nested-Syntax)\n",
    "    * [Using Cache](#Using-Cache)\n",
    "    * [Fun with words](#Fun-with-words)\n",
    "    * [DataFrames](#DataFrames)\n",
    "    * [Machine Learning](#Machine-Learning)\n"
   ]
  },
  {
   "cell_type": "markdown",
   "metadata": {
    "slideshow": {
     "slide_type": "slide"
    }
   },
   "source": [
    "With shameless stealing of some code and text from:\n",
    "\n",
    "- https://github.com/tdhopper/rta-pyspark-presentation/blob/master/slides.ipynb\n",
    "- Databricks and Berkeley Spark MOOC: https://www.edx.org/course/introduction-big-data-apache-spark-uc-berkeleyx-cs100-1x\n",
    "\n",
    "which you should go check out."
   ]
  },
  {
   "cell_type": "markdown",
   "metadata": {},
   "source": [
    "## Installing Spark locally\n",
    "\n",
    "\n",
    "**Step 1: Install Apache Spark**\n",
    "\n",
    "For example, for Mac users using Homebrew:\n",
    "\n",
    "```\n",
    "$ brew install apache-spark\n",
    "```"
   ]
  },
  {
   "cell_type": "markdown",
   "metadata": {},
   "source": [
    "**Step 2: Install the Java SDK version 1.8 or above for your platform (not just the JRE runtime)**\n",
    "\n",
    "Make sure you can access commands such as `java` on your command line."
   ]
  },
  {
   "cell_type": "markdown",
   "metadata": {},
   "source": [
    "**Step 3: Install the latest findspark package using pip**\n",
    "\n",
    "```\n",
    "➜  ~  pip install findspark\n",
    "Collecting findspark\n",
    "  Downloading findspark-0.0.5-py2.py3-none-any.whl\n",
    "Installing collected packages: findspark\n",
    "Successfully installed findspark-0.0.5\n",
    "```"
   ]
  },
  {
   "cell_type": "markdown",
   "metadata": {
    "slideshow": {
     "slide_type": "slide"
    }
   },
   "source": [
    "# Spark Context\n",
    "\n",
    "You can also use it directly from the notebook interface on the mac if you installed `apache-spark` using `brew` and also installed `findspark` above."
   ]
  },
  {
   "cell_type": "code",
   "execution_count": 117,
   "metadata": {},
   "outputs": [
    {
     "ename": "ValueError",
     "evalue": "Cannot run multiple SparkContexts at once; existing SparkContext(app=pyspark-shell, master=local[*]) created by __init__ at <ipython-input-2-898a6c308479>:2 ",
     "output_type": "error",
     "traceback": [
      "\u001b[0;31m---------------------------------------------------------------------------\u001b[0m",
      "\u001b[0;31mValueError\u001b[0m                                Traceback (most recent call last)",
      "\u001b[0;32m<ipython-input-117-898a6c308479>\u001b[0m in \u001b[0;36m<module>\u001b[0;34m()\u001b[0m\n\u001b[1;32m      1\u001b[0m \u001b[0;32mimport\u001b[0m \u001b[0mpyspark\u001b[0m\u001b[0;34m\u001b[0m\u001b[0m\n\u001b[0;32m----> 2\u001b[0;31m \u001b[0msc\u001b[0m \u001b[0;34m=\u001b[0m \u001b[0mpyspark\u001b[0m\u001b[0;34m.\u001b[0m\u001b[0mSparkContext\u001b[0m\u001b[0;34m(\u001b[0m\u001b[0;34m)\u001b[0m\u001b[0;34m\u001b[0m\u001b[0m\n\u001b[0m",
      "\u001b[0;32m/home/juan/anaconda2/lib/python2.7/site-packages/pyspark/context.pyc\u001b[0m in \u001b[0;36m__init__\u001b[0;34m(self, master, appName, sparkHome, pyFiles, environment, batchSize, serializer, conf, gateway, jsc, profiler_cls)\u001b[0m\n\u001b[1;32m    113\u001b[0m         \"\"\"\n\u001b[1;32m    114\u001b[0m         \u001b[0mself\u001b[0m\u001b[0;34m.\u001b[0m\u001b[0m_callsite\u001b[0m \u001b[0;34m=\u001b[0m \u001b[0mfirst_spark_call\u001b[0m\u001b[0;34m(\u001b[0m\u001b[0;34m)\u001b[0m \u001b[0;32mor\u001b[0m \u001b[0mCallSite\u001b[0m\u001b[0;34m(\u001b[0m\u001b[0mNone\u001b[0m\u001b[0;34m,\u001b[0m \u001b[0mNone\u001b[0m\u001b[0;34m,\u001b[0m \u001b[0mNone\u001b[0m\u001b[0;34m)\u001b[0m\u001b[0;34m\u001b[0m\u001b[0m\n\u001b[0;32m--> 115\u001b[0;31m         \u001b[0mSparkContext\u001b[0m\u001b[0;34m.\u001b[0m\u001b[0m_ensure_initialized\u001b[0m\u001b[0;34m(\u001b[0m\u001b[0mself\u001b[0m\u001b[0;34m,\u001b[0m \u001b[0mgateway\u001b[0m\u001b[0;34m=\u001b[0m\u001b[0mgateway\u001b[0m\u001b[0;34m,\u001b[0m \u001b[0mconf\u001b[0m\u001b[0;34m=\u001b[0m\u001b[0mconf\u001b[0m\u001b[0;34m)\u001b[0m\u001b[0;34m\u001b[0m\u001b[0m\n\u001b[0m\u001b[1;32m    116\u001b[0m         \u001b[0;32mtry\u001b[0m\u001b[0;34m:\u001b[0m\u001b[0;34m\u001b[0m\u001b[0m\n\u001b[1;32m    117\u001b[0m             self._do_init(master, appName, sparkHome, pyFiles, environment, batchSize, serializer,\n",
      "\u001b[0;32m/home/juan/anaconda2/lib/python2.7/site-packages/pyspark/context.pyc\u001b[0m in \u001b[0;36m_ensure_initialized\u001b[0;34m(cls, instance, gateway, conf)\u001b[0m\n\u001b[1;32m    297\u001b[0m                         \u001b[0;34m\" created by %s at %s:%s \"\u001b[0m\u001b[0;34m\u001b[0m\u001b[0m\n\u001b[1;32m    298\u001b[0m                         % (currentAppName, currentMaster,\n\u001b[0;32m--> 299\u001b[0;31m                             callsite.function, callsite.file, callsite.linenum))\n\u001b[0m\u001b[1;32m    300\u001b[0m                 \u001b[0;32melse\u001b[0m\u001b[0;34m:\u001b[0m\u001b[0;34m\u001b[0m\u001b[0m\n\u001b[1;32m    301\u001b[0m                     \u001b[0mSparkContext\u001b[0m\u001b[0;34m.\u001b[0m\u001b[0m_active_spark_context\u001b[0m \u001b[0;34m=\u001b[0m \u001b[0minstance\u001b[0m\u001b[0;34m\u001b[0m\u001b[0m\n",
      "\u001b[0;31mValueError\u001b[0m: Cannot run multiple SparkContexts at once; existing SparkContext(app=pyspark-shell, master=local[*]) created by __init__ at <ipython-input-2-898a6c308479>:2 "
     ]
    }
   ],
   "source": [
    "import pyspark\n",
    "sc = pyspark.SparkContext()"
   ]
  },
  {
   "cell_type": "markdown",
   "metadata": {},
   "source": [
    "It also output's a bunch of stuff on my terminal. This is because the entire java context is started up.\n",
    "\n",
    "```Using Spark's default log4j profile: org/apache/spark/log4j-defaults.properties\n",
    "15/10/21 14:46:15 INFO SparkContext: Running Spark version 1.4.0\n",
    "2015-10-21 14:46:15.774 java[30685:c003] Unable to load realm info from SCDynamicStore\n",
    "15/10/21 14:46:15 WARN NativeCodeLoader: Unable to load native-hadoop library for your platform... using builtin-java classes where applicable\n",
    "15/10/21 14:46:15 INFO SecurityManager: Changing view acls to: rahul\n",
    "15/10/21 14:46:15 INFO SecurityManager: Changing modify acls to: rahul\n",
    "15/10/21 14:46:15 INFO SecurityManager: SecurityManager: authentication disabled; ui acls disabled; users with view permissions: Set(rahul); users with modify permissions: Set(rahul)\n",
    "15/10/21 14:46:16 INFO Slf4jLogger: Slf4jLogger started\n",
    "15/10/21 14:46:16 INFO Remoting: Starting remoting\n",
    "15/10/21 14:46:16 INFO Remoting: Remoting started; listening on addresses :[akka.tcp://sparkDriver@10.251.101.163:64359]\n",
    "15/10/21 14:46:16 INFO Utils: Successfully started service 'sparkDriver' on port 64359.\n",
    "15/10/21 14:46:16 INFO SparkEnv: Registering MapOutputTracker\n",
    "15/10/21 14:46:16 INFO SparkEnv: Registering BlockManagerMaster\n",
    "15/10/21 14:46:16 INFO DiskBlockManager: Created local directory at /private/var/folders/_f/y76rs29s3c57ykwyz9c8z12c0000gn/T/spark-00a4e09e-e5db-485f-81dc-2e5016e9a27e/blockmgr-8966e07c-223b-4c38-9273-11543aa9d3c1\n",
    "15/10/21 14:46:16 INFO MemoryStore: MemoryStore started with capacity 273.0 MB\n",
    "15/10/21 14:46:16 INFO HttpFileServer: HTTP File server directory is /private/var/folders/_f/y76rs29s3c57ykwyz9c8z12c0000gn/T/spark-00a4e09e-e5db-485f-81dc-2e5016e9a27e/httpd-6af0a9e0-1cfe-42c4-a1bd-e01715b98436\n",
    "15/10/21 14:46:16 INFO HttpServer: Starting HTTP Server\n",
    "15/10/21 14:46:17 INFO Utils: Successfully started service 'HTTP file server' on port 64360.\n",
    "15/10/21 14:46:17 INFO SparkEnv: Registering OutputCommitCoordinator\n",
    "15/10/21 14:46:18 INFO Utils: Successfully started service 'SparkUI' on port 4040.\n",
    "15/10/21 14:46:18 INFO SparkUI: Started SparkUI at http://10.251.101.163:4040\n",
    "15/10/21 14:46:18 INFO Executor: Starting executor ID driver on host localhost\n",
    "15/10/21 14:46:18 INFO Utils: Successfully started service 'org.apache.spark.network.netty.NettyBlockTransferService' on port 64361.\n",
    "15/10/21 14:46:18 INFO NettyBlockTransferService: Server created on 64361\n",
    "15/10/21 14:46:18 INFO BlockManagerMaster: Trying to register BlockManager\n",
    "15/10/21 14:46:18 INFO BlockManagerMasterEndpoint: Registering block manager localhost:64361 with 273.0 MB RAM, BlockManagerId(driver, localhost, 64361)\n",
    "15/10/21 14:46:18 INFO BlockManagerMaster: Registered BlockManager\n",
    "```"
   ]
  },
  {
   "cell_type": "code",
   "execution_count": 118,
   "metadata": {},
   "outputs": [
    {
     "data": {
      "text/html": [
       "\n",
       "        <div>\n",
       "            <p><b>SparkContext</b></p>\n",
       "\n",
       "            <p><a href=\"http://136.167.123.150:4040\">Spark UI</a></p>\n",
       "\n",
       "            <dl>\n",
       "              <dt>Version</dt>\n",
       "                <dd><code>v2.2.0</code></dd>\n",
       "              <dt>Master</dt>\n",
       "                <dd><code>local[*]</code></dd>\n",
       "              <dt>AppName</dt>\n",
       "                <dd><code>pyspark-shell</code></dd>\n",
       "            </dl>\n",
       "        </div>\n",
       "        "
      ],
      "text/plain": [
       "<SparkContext master=local[*] appName=pyspark-shell>"
      ]
     },
     "execution_count": 118,
     "metadata": {},
     "output_type": "execute_result"
    }
   ],
   "source": [
    "sc"
   ]
  },
  {
   "cell_type": "code",
   "execution_count": 119,
   "metadata": {},
   "outputs": [
    {
     "data": {
      "text/plain": [
       "385"
      ]
     },
     "execution_count": 119,
     "metadata": {},
     "output_type": "execute_result"
    }
   ],
   "source": [
    "sc.parallelize([1, 2, 3, 4, 5, 6, 7, 8, 9, 10]).map(lambda x: x**2).sum()"
   ]
  },
  {
   "cell_type": "markdown",
   "metadata": {
    "slideshow": {
     "slide_type": "slide"
    }
   },
   "source": [
    "### Create A RDD\n"
   ]
  },
  {
   "cell_type": "code",
   "execution_count": 120,
   "metadata": {},
   "outputs": [
    {
     "name": "stdout",
     "output_type": "stream",
     "text": [
      "<class 'pyspark.rdd.RDD'>\n"
     ]
    }
   ],
   "source": [
    "wordsList = ['cat', 'elephant', 'rat', 'rat', 'cat']\n",
    "wordsRDD = sc.parallelize(wordsList, 4)\n",
    "# Print out the type of wordsRDD\n",
    "print type(wordsRDD)"
   ]
  },
  {
   "cell_type": "markdown",
   "metadata": {
    "slideshow": {
     "slide_type": "slide"
    }
   },
   "source": [
    "### Call `collect` on an RDD: Lazy Spark"
   ]
  },
  {
   "cell_type": "markdown",
   "metadata": {},
   "source": [
    "Spark is lazy. Until you `collect`, nothing is actually run.\n",
    "\n",
    ">Instead, they just remember the transformations applied to some base dataset (e.g. a file). The transformations are only computed when an action requires a result to be returned to the driver program."
   ]
  },
  {
   "cell_type": "code",
   "execution_count": 121,
   "metadata": {},
   "outputs": [
    {
     "data": {
      "text/plain": [
       "['cat', 'elephant', 'rat', 'rat', 'cat']"
      ]
     },
     "execution_count": 121,
     "metadata": {},
     "output_type": "execute_result"
    }
   ],
   "source": [
    "wordsRDD.collect()"
   ]
  },
  {
   "cell_type": "markdown",
   "metadata": {},
   "source": [
    "```\n",
    "15/10/21 14:59:59 INFO SparkContext: Starting job: collect at <ipython-input-6-dee494da0714>:1\n",
    "15/10/21 14:59:59 INFO DAGScheduler: Got job 0 (collect at <ipython-input-6-dee494da0714>:1) with 4 output partitions (allowLocal=false)\n",
    "15/10/21 14:59:59 INFO DAGScheduler: Final stage: ResultStage 0(collect at <ipython-input-6-dee494da0714>:1)\n",
    "15/10/21 14:59:59 INFO DAGScheduler: Parents of final stage: List()\n",
    "15/10/21 14:59:59 INFO DAGScheduler: Missing parents: List()\n",
    "15/10/21 14:59:59 INFO DAGScheduler: Submitting ResultStage 0 (ParallelCollectionRDD[0] at parallelize at PythonRDD.scala:396), which has no missing parents\n",
    "15/10/21 15:00:00 INFO MemoryStore: ensureFreeSpace(1224) called with curMem=0, maxMem=286300569\n",
    "15/10/21 15:00:00 INFO MemoryStore: Block broadcast_0 stored as values in memory (estimated size 1224.0 B, free 273.0 MB)\n",
    "15/10/21 15:00:00 INFO MemoryStore: ensureFreeSpace(777) called with curMem=1224, maxMem=286300569\n",
    "15/10/21 15:00:00 INFO MemoryStore: Block broadcast_0_piece0 stored as bytes in memory (estimated size 777.0 B, free 273.0 MB)\n",
    "15/10/21 15:00:00 INFO BlockManagerInfo: Added broadcast_0_piece0 in memory on localhost:64361 (size: 777.0 B, free: 273.0 MB)\n",
    "15/10/21 15:00:00 INFO SparkContext: Created broadcast 0 from broadcast at DAGScheduler.scala:874\n",
    "15/10/21 15:00:00 INFO DAGScheduler: Submitting 4 missing tasks from ResultStage 0 (ParallelCollectionRDD[0] at parallelize at PythonRDD.scala:396)\n",
    "15/10/21 15:00:00 INFO TaskSchedulerImpl: Adding task set 0.0 with 4 tasks\n",
    "15/10/21 15:00:00 INFO TaskSetManager: Starting task 0.0 in stage 0.0 (TID 0, localhost, PROCESS_LOCAL, 1379 bytes)\n",
    "15/10/21 15:00:00 INFO TaskSetManager: Starting task 1.0 in stage 0.0 (TID 1, localhost, PROCESS_LOCAL, 1384 bytes)\n",
    "15/10/21 15:00:00 INFO TaskSetManager: Starting task 2.0 in stage 0.0 (TID 2, localhost, PROCESS_LOCAL, 1379 bytes)\n",
    "15/10/21 15:00:00 INFO TaskSetManager: Starting task 3.0 in stage 0.0 (TID 3, localhost, PROCESS_LOCAL, 1403 bytes)\n",
    "15/10/21 15:00:00 INFO Executor: Running task 0.0 in stage 0.0 (TID 0)\n",
    "15/10/21 15:00:00 INFO Executor: Running task 2.0 in stage 0.0 (TID 2)\n",
    "15/10/21 15:00:00 INFO Executor: Running task 1.0 in stage 0.0 (TID 1)\n",
    "15/10/21 15:00:00 INFO Executor: Running task 3.0 in stage 0.0 (TID 3)\n",
    "15/10/21 15:00:00 INFO Executor: Finished task 1.0 in stage 0.0 (TID 1). 646 bytes result sent to driver\n",
    "15/10/21 15:00:00 INFO Executor: Finished task 3.0 in stage 0.0 (TID 3). 665 bytes result sent to driver\n",
    "15/10/21 15:00:00 INFO Executor: Finished task 0.0 in stage 0.0 (TID 0). 641 bytes result sent to driver\n",
    "15/10/21 15:00:00 INFO Executor: Finished task 2.0 in stage 0.0 (TID 2). 641 bytes result sent to driver\n",
    "15/10/21 15:00:00 INFO TaskSetManager: Finished task 1.0 in stage 0.0 (TID 1) in 61 ms on localhost (1/4)\n",
    "15/10/21 15:00:00 INFO TaskSetManager: Finished task 3.0 in stage 0.0 (TID 3) in 60 ms on localhost (2/4)\n",
    "15/10/21 15:00:00 INFO TaskSetManager: Finished task 0.0 in stage 0.0 (TID 0) in 96 ms on localhost (3/4)\n",
    "15/10/21 15:00:00 INFO TaskSetManager: Finished task 2.0 in stage 0.0 (TID 2) in 63 ms on localhost (4/4)\n",
    "15/10/21 15:00:00 INFO DAGScheduler: ResultStage 0 (collect at <ipython-input-6-dee494da0714>:1) finished in 0.120 s\n",
    "15/10/21 15:00:00 INFO TaskSchedulerImpl: Removed TaskSet 0.0, whose tasks have all completed, from pool\n",
    "15/10/21 15:00:00 INFO DAGScheduler: Job 0 finished: collect at <ipython-input-6-dee494da0714>:1, took 0.872367 s\n",
    "```"
   ]
  },
  {
   "cell_type": "markdown",
   "metadata": {},
   "source": [
    "### Operations on RDDs"
   ]
  },
  {
   "cell_type": "markdown",
   "metadata": {},
   "source": [
    "From the Spark Programming Guide:\n",
    "\n",
    ">RDDs support two types of operations: transformations, which create a new dataset from an existing one, and actions, which return a value to the driver program after running a computation on the dataset. For example, map is a transformation that passes each dataset element through a function and returns a new RDD representing the results. On the other hand, reduce is an action that aggregates all the elements of the RDD using some function and returns the final result to the driver program (although there is also a parallel reduceByKey that returns a distributed dataset)."
   ]
  },
  {
   "cell_type": "markdown",
   "metadata": {},
   "source": [
    "### Word Examples"
   ]
  },
  {
   "cell_type": "code",
   "execution_count": null,
   "metadata": {},
   "outputs": [],
   "source": [
    "def makePlural(word):\n",
    "    return word + 's'\n",
    "\n",
    "print makePlural('cat')"
   ]
  },
  {
   "cell_type": "markdown",
   "metadata": {},
   "source": [
    "Transform one RDD into another."
   ]
  },
  {
   "cell_type": "code",
   "execution_count": null,
   "metadata": {},
   "outputs": [],
   "source": [
    "pluralRDD = wordsRDD.map(makePlural)\n",
    "print pluralRDD.first()\n",
    "print pluralRDD.take(2)\n"
   ]
  },
  {
   "cell_type": "code",
   "execution_count": null,
   "metadata": {},
   "outputs": [],
   "source": [
    "pluralRDD.take(1)"
   ]
  },
  {
   "cell_type": "code",
   "execution_count": null,
   "metadata": {},
   "outputs": [],
   "source": [
    "pluralRDD.collect()"
   ]
  },
  {
   "cell_type": "markdown",
   "metadata": {
    "slideshow": {
     "slide_type": "slide"
    }
   },
   "source": [
    "### Key Value Pairs"
   ]
  },
  {
   "cell_type": "code",
   "execution_count": null,
   "metadata": {},
   "outputs": [],
   "source": [
    "wordPairs = wordsRDD.map(lambda w: (w, 1))\n",
    "print wordPairs.collect()"
   ]
  },
  {
   "cell_type": "markdown",
   "metadata": {},
   "source": [
    "```\n",
    "➜  sparklect  ps auxwww | grep pyspark\n",
    "rahul           30685   0.4  0.8  3458120  68712 s012  S+    2:46PM   2:00.21 /System/Library/Java/JavaVirtualMachines/1.6.0.jdk/Contents/Home/bin/java -cp /usr/local/opt/apache-spark/libexec/conf/:/usr/local/opt/apache-spark/libexec/lib/spark-assembly-1.4.0-hadoop2.6.0.jar:/usr/local/opt/apache-spark/libexec/lib/datanucleus-api-jdo-3.2.6.jar:/usr/local/opt/apache-spark/libexec/lib/datanucleus-core-3.2.10.jar:/usr/local/opt/apache-spark/libexec/lib/datanucleus-rdbms-3.2.9.jar -Xms512m -Xmx512m -XX:MaxPermSize=128m org.apache.spark.deploy.SparkSubmit pyspark-shell\n",
    "rahul           31520   0.0  0.0  2432784    480 s011  R+    6:42PM   0:00.00 grep --color=auto --exclude-dir=.bzr --exclude-dir=.cvs --exclude-dir=.git --exclude-dir=.hg --exclude-dir=.svn pyspark\n",
    "rahul           31494   0.0  0.7  2548972  57288 s012  S     6:41PM   0:00.10 python -m pyspark.daemon\n",
    "rahul           31493   0.0  0.7  2548972  57308 s012  S     6:41PM   0:00.10 python -m pyspark.daemon\n",
    "rahul           31492   0.0  0.7  2548972  57288 s012  S     6:41PM   0:00.11 python -m pyspark.daemon\n",
    "rahul           31446   0.0  0.8  2548972  68460 s012  S     6:35PM   0:01.34 python -m pyspark.daemon\n",
    "```"
   ]
  },
  {
   "cell_type": "markdown",
   "metadata": {
    "slideshow": {
     "slide_type": "slide"
    }
   },
   "source": [
    "### WORD COUNT!\n",
    "\n",
    "This little exercise shows how to use mapreduce to calculate the counts of individual words in a list."
   ]
  },
  {
   "cell_type": "code",
   "execution_count": null,
   "metadata": {},
   "outputs": [],
   "source": [
    "wordsList = ['cat', 'elephant', 'rat', 'rat', 'cat']\n",
    "wordsRDD = sc.parallelize(wordsList, 4)\n",
    "wordCountsCollected = (wordsRDD\n",
    "                       .map(lambda w: (w, 1))\n",
    "                       .reduceByKey(lambda x,y: x+y)\n",
    "                       .collect())\n",
    "print wordCountsCollected"
   ]
  },
  {
   "cell_type": "markdown",
   "metadata": {
    "slideshow": {
     "slide_type": "slide"
    }
   },
   "source": [
    "![Tons of shuffling](https://databricks.gitbooks.io/databricks-spark-knowledge-base/content/images/reduce_by.png)"
   ]
  },
  {
   "cell_type": "code",
   "execution_count": null,
   "metadata": {},
   "outputs": [],
   "source": [
    "print (wordsRDD\n",
    "    .map(lambda w: (w, 1))\n",
    "    .reduceByKey(lambda x,y: x+y)).toDebugString()"
   ]
  },
  {
   "cell_type": "markdown",
   "metadata": {
    "slideshow": {
     "slide_type": "slide"
    }
   },
   "source": [
    "### Using Cache"
   ]
  },
  {
   "cell_type": "code",
   "execution_count": null,
   "metadata": {},
   "outputs": [],
   "source": [
    "wordsList = ['cat', 'elephant', 'rat', 'rat', 'cat']\n",
    "wordsRDD = sc.parallelize(wordsList, 4)\n",
    "print wordsRDD\n",
    "wordsRDD.count()"
   ]
  },
  {
   "cell_type": "markdown",
   "metadata": {},
   "source": [
    "Normally, every operation is run from the start. This may be inefficient in many cases. So when appropriate, we may want to cache the result the first time an operation is run on an RDD."
   ]
  },
  {
   "cell_type": "code",
   "execution_count": null,
   "metadata": {},
   "outputs": [],
   "source": [
    "#this is rerun from the start\n",
    "wordsRDD.count()"
   ]
  },
  {
   "cell_type": "code",
   "execution_count": null,
   "metadata": {},
   "outputs": [],
   "source": [
    "#default storage level (MEMORY_ONLY)\n",
    "wordsRDD.cache()#nothing done this is still lazy"
   ]
  },
  {
   "cell_type": "code",
   "execution_count": null,
   "metadata": {},
   "outputs": [],
   "source": [
    "#parallelize is rerun and cached because we told it to cache\n",
    "wordsRDD.count()"
   ]
  },
  {
   "cell_type": "code",
   "execution_count": null,
   "metadata": {},
   "outputs": [],
   "source": [
    "#this `sc.parallelize` is not rerun in this case\n",
    "wordsRDD.count()"
   ]
  },
  {
   "cell_type": "markdown",
   "metadata": {},
   "source": [
    "Where is this useful: it is when you have branching parts or loops, so that you dont do things again and again. Spark, being \"lazy\" will rerun the chain again. So `cache` or `persist` serves as a checkpoint, breaking the RDD chain or the *lineage*."
   ]
  },
  {
   "cell_type": "code",
   "execution_count": null,
   "metadata": {},
   "outputs": [],
   "source": [
    "birdsList=['heron','owl']\n",
    "animList=wordsList+birdsList\n",
    "animaldict={}\n",
    "for e in wordsList:\n",
    "    animaldict[e]='mammal'\n",
    "for e in birdsList:\n",
    "    animaldict[e]='bird'\n",
    "animaldict"
   ]
  },
  {
   "cell_type": "code",
   "execution_count": null,
   "metadata": {},
   "outputs": [],
   "source": [
    "animsrdd = sc.parallelize(animList, 4)\n",
    "animsrdd.cache()\n",
    "#below runs the whole chain but causes cache to be populated\n",
    "mammalcount=animsrdd.filter(lambda w: animaldict[w]=='mammal').count()\n",
    "#now only the filter is carried out\n",
    "birdcount=animsrdd.filter(lambda w: animaldict[w]=='bird').count()\n",
    "print mammalcount, birdcount"
   ]
  },
  {
   "cell_type": "code",
   "execution_count": null,
   "metadata": {
    "collapsed": true
   },
   "outputs": [],
   "source": []
  },
  {
   "cell_type": "markdown",
   "metadata": {},
   "source": [
    "### Exercises: Fun with MapReduce\n",
    "\n",
    "Read http://spark.apache.org/docs/latest/programming-guide.html for some useful background and then try out the following exercises"
   ]
  },
  {
   "cell_type": "markdown",
   "metadata": {},
   "source": [
    "The file `./sparklect/english.stop.txt` contains a list of English stopwords, while the file `./sparklect/shakes/juliuscaesar.txt` contains the entire text of Shakespeare's 'Julius Caesar'.\n",
    "\n",
    "* Load all of the stopwords into a Python list\n",
    "* Load the text of Julius Caesar into an RDD using the `sparkcontext.textfile()` method. Call it `juliusrdd`."
   ]
  },
  {
   "cell_type": "code",
   "execution_count": 122,
   "metadata": {},
   "outputs": [
    {
     "data": {
      "text/plain": [
       "[u'1599',\n",
       " u'THE TRAGEDY OF JULIUS CAESAR',\n",
       " u'',\n",
       " u'by William Shakespeare',\n",
       " u'',\n",
       " u'',\n",
       " u'',\n",
       " u'Dramatis Personae',\n",
       " u'',\n",
       " u'  JULIUS CAESAR, Roman statesman and general',\n",
       " u\"  OCTAVIUS, Triumvir after Caesar's death, later Augustus Caesar,\",\n",
       " u'    first emperor of Rome',\n",
       " u'  MARK ANTONY, general and friend of Caesar, a Triumvir after his',\n",
       " u'death',\n",
       " u'  LEPIDUS, third member of the Triumvirate',\n",
       " u'  MARCUS BRUTUS, leader of the conspiracy against Caesar',\n",
       " u'  CASSIUS, instigator of the conspiracy',\n",
       " u'  CASCA,          conspirator against Caesar',\n",
       " u'  TREBONIUS,           \"          \"     \"',\n",
       " u'  CAIUS LIGARIUS,      \"          \"     \"',\n",
       " u'  DECIUS BRUTUS,       \"          \"     \"',\n",
       " u'  METELLUS CIMBER,     \"          \"     \"',\n",
       " u'  CINNA,               \"          \"     \"',\n",
       " u'  CALPURNIA, wife of Caesar',\n",
       " u'  PORTIA, wife of Brutus',\n",
       " u'  CICERO,     senator',\n",
       " u'  POPILIUS,      \"',\n",
       " u'  POPILIUS LENA, \"',\n",
       " u'  FLAVIUS, tribune ',\n",
       " u'  MARULLUS, tribune',\n",
       " u'  CATO,     supportor of Brutus',\n",
       " u'  LUCILIUS,     \"     \"    \"',\n",
       " u'  TITINIUS,     \"     \"    \"',\n",
       " u'  MESSALA,      \"     \"    \"',\n",
       " u'  VOLUMNIUS,    \"     \"    \"',\n",
       " u'  ARTEMIDORUS, a teacher of rhetoric',\n",
       " u'  CINNA, a poet',\n",
       " u'  VARRO,     servant to Brutus',\n",
       " u'  CLITUS,       \"    \"     \"',\n",
       " u'  CLAUDIO,      \"    \"     \"',\n",
       " u'  STRATO,       \"    \"     \"',\n",
       " u'  LUCIUS,       \"    \"     \"',\n",
       " u'  DARDANIUS,    \"    \"     \"',\n",
       " u'  PINDARUS, servant to Cassius',\n",
       " u'  The Ghost of Caesar',\n",
       " u'  A Soothsayer',\n",
       " u'  A Poet',\n",
       " u'  Senators, Citizens, Soldiers, Commoners, Messengers, and',\n",
       " u'Servants',\n",
       " u'',\n",
       " u'',\n",
       " u'',\n",
       " u'',\n",
       " u'<<THIS ELECTRONIC VERSION OF THE COMPLETE WORKS OF WILLIAM',\n",
       " u'SHAKESPEARE IS COPYRIGHT 1990-1993 BY WORLD LIBRARY, INC., AND IS',\n",
       " u'PROVIDED BY PROJECT GUTENBERG ETEXT OF CARNEGIE MELLON UNIVERSITY',\n",
       " u'WITH PERMISSION.  ELECTRONIC AND MACHINE READABLE COPIES MAY BE',\n",
       " u'DISTRIBUTED SO LONG AS SUCH COPIES (1) ARE FOR YOUR OR OTHERS',\n",
       " u'PERSONAL USE ONLY, AND (2) ARE NOT DISTRIBUTED OR USED',\n",
       " u'COMMERCIALLY.  PROHIBITED COMMERCIAL DISTRIBUTION INCLUDES BY ANY',\n",
       " u'SERVICE THAT CHARGES FOR DOWNLOAD TIME OR FOR MEMBERSHIP.>>',\n",
       " u'',\n",
       " u'',\n",
       " u'',\n",
       " u\"SCENE: Rome, the conspirators' camp near Sardis,  and the plains\",\n",
       " u'of Philippi.',\n",
       " u'',\n",
       " u'',\n",
       " u'ACT I. SCENE I.',\n",
       " u'Rome. A street.',\n",
       " u'',\n",
       " u'Enter Flavius, Marullus, and certain Commoners.',\n",
       " u'',\n",
       " u'  FLAVIUS. Hence, home, you idle creatures, get you home.',\n",
       " u'    Is this a holiday? What, know you not,',\n",
       " u'    Being mechanical, you ought not walk',\n",
       " u'    Upon a laboring day without the sign',\n",
       " u'    Of your profession? Speak, what trade art thou?',\n",
       " u'  FIRST COMMONER. Why, sir, a carpenter.',\n",
       " u'  MARULLUS. Where is thy leather apron and thy rule?',\n",
       " u'    What dost thou with thy best apparel on?',\n",
       " u'    You, sir, what trade are you?',\n",
       " u'  SECOND COMMONER. Truly, sir, in respect of a fine workman, I am',\n",
       " u'    but, as you would say, a cobbler.',\n",
       " u'  MARULLUS. But what trade art thou? Answer me directly.',\n",
       " u'  SECOND COMMONER. A trade, sir, that, I hope, I may use with a',\n",
       " u'safe',\n",
       " u'    conscience, which is indeed, sir, a mender of bad soles.',\n",
       " u'  MARULLUS. What trade, thou knave? Thou naughty knave, what',\n",
       " u'trade?',\n",
       " u'  SECOND COMMONER. Nay, I beseech you, sir, be not out with me;',\n",
       " u'yet,',\n",
       " u'    if you be out, sir, I can mend you. ',\n",
       " u\"  MARULLUS. What mean'st thou by that? Mend me, thou saucy\",\n",
       " u'fellow!',\n",
       " u'  SECOND COMMONER. Why, sir, cobble you.',\n",
       " u'  FLAVIUS. Thou art a cobbler, art thou?',\n",
       " u'  SECOND COMMONER. Truly, Sir, all that I live by is with the',\n",
       " u'awl; I',\n",
       " u\"    meddle with no tradesman's matters, nor women's matters, but\",\n",
       " u'with',\n",
       " u'    awl. I am indeed, sir, a surgeon to old shoes; when they are',\n",
       " u'in',\n",
       " u'    great danger, I recover them. As proper men as ever trod upon',\n",
       " u\"    neat's leather have gone upon my handiwork.\",\n",
       " u'  FLAVIUS. But wherefore art not in thy shop today?',\n",
       " u'    Why dost thou lead these men about the streets?',\n",
       " u'  SECOND COMMONER. Truly, sir, to wear out their shoes to get',\n",
       " u'myself',\n",
       " u'    into more work. But indeed, sir, we make holiday to see',\n",
       " u'Caesar',\n",
       " u'    and to rejoice in his triumph.',\n",
       " u'  MARULLUS. Wherefore rejoice? What conquest brings he home?',\n",
       " u'    What tributaries follow him to Rome',\n",
       " u'    To grace in captive bonds his chariot wheels?',\n",
       " u'    You blocks, you stones, you worse than senseless things!',\n",
       " u'    O you hard hearts, you cruel men of Rome,',\n",
       " u'    Knew you not Pompey? Many a time and oft',\n",
       " u\"    Have you climb'd up to walls and battlements, \",\n",
       " u'    To towers and windows, yea, to chimney tops,',\n",
       " u'    Your infants in your arms, and there have sat',\n",
       " u'    The livelong day with patient expectation',\n",
       " u'    To see great Pompey pass the streets of Rome.',\n",
       " u'    And when you saw his chariot but appear,',\n",
       " u'    Have you not made an universal shout',\n",
       " u'    That Tiber trembled underneath her banks',\n",
       " u'    To hear the replication of your sounds',\n",
       " u'    Made in her concave shores?',\n",
       " u'    And do you now put on your best attire?',\n",
       " u'    And do you now cull out a holiday?',\n",
       " u'    And do you now strew flowers in his way',\n",
       " u\"    That comes in triumph over Pompey's blood?\",\n",
       " u'    Be gone!',\n",
       " u'    Run to your houses, fall upon your knees,',\n",
       " u'    Pray to the gods to intermit the plague',\n",
       " u'    That needs must light on this ingratitude.',\n",
       " u'  FLAVIUS. Go, go, good countrymen, and, for this fault,',\n",
       " u'    Assemble all the poor men of your sort,',\n",
       " u'    Draw them to Tiber banks, and weep your tears ',\n",
       " u'    Into the channel, till the lowest stream',\n",
       " u'    Do kiss the most exalted shores of all.',\n",
       " u'                                           Exeunt all Commoners.',\n",
       " u'    See whether their basest metal be not moved;',\n",
       " u'    They vanish tongue-tied in their guiltiness.',\n",
       " u'    Go you down that way towards the Capitol;',\n",
       " u'    This way will I. Disrobe the images',\n",
       " u\"    If you do find them deck'd with ceremonies.\",\n",
       " u'  MARULLUS. May we do so?',\n",
       " u'    You know it is the feast of Lupercal.',\n",
       " u'  FLAVIUS. It is no matter; let no images',\n",
       " u\"    Be hung with Caesar's trophies. I'll about\",\n",
       " u'    And drive away the vulgar from the streets;',\n",
       " u'    So do you too, where you perceive them thick.',\n",
       " u\"    These growing feathers pluck'd from Caesar's wing\",\n",
       " u'    Will make him fly an ordinary pitch,',\n",
       " u'    Who else would soar above the view of men',\n",
       " u'    And keep us all in servile fearfulness.              Exeunt.',\n",
       " u'',\n",
       " u'',\n",
       " u'',\n",
       " u'',\n",
       " u'SCENE II.',\n",
       " u'A public place.',\n",
       " u'',\n",
       " u'Flourish. Enter Caesar; Antony, for the course; Calpurnia,',\n",
       " u'Portia,',\n",
       " u'Decius, Cicero, Brutus, Cassius, and Casca; a great crowd',\n",
       " u'follows,',\n",
       " u'among them a Soothsayer.',\n",
       " u'',\n",
       " u'  CAESAR. Calpurnia!',\n",
       " u'  CASCA. Peace, ho! Caesar speaks.',\n",
       " u'                                                   Music ceases.',\n",
       " u'  CAESAR. Calpurnia!',\n",
       " u'  CALPURNIA. Here, my lord.',\n",
       " u\"  CAESAR. Stand you directly in Antonio's way,\",\n",
       " u'    When he doth run his course. Antonio!',\n",
       " u'  ANTONY. Caesar, my lord?',\n",
       " u'  CAESAR. Forget not in your speed, Antonio,',\n",
       " u'    To touch Calpurnia, for our elders say',\n",
       " u'    The barren, touched in this holy chase,',\n",
       " u'    Shake off their sterile curse.',\n",
       " u'  ANTONY. I shall remember.',\n",
       " u'    When Caesar says \"Do this,\" it is perform\\'d.',\n",
       " u'  CAESAR. Set on, and leave no ceremony out.           Flourish. ',\n",
       " u'  SOOTHSAYER. Caesar!',\n",
       " u'  CAESAR. Ha! Who calls?',\n",
       " u'  CASCA. Bid every noise be still. Peace yet again!',\n",
       " u'  CAESAR. Who is it in the press that calls on me?',\n",
       " u'    I hear a tongue, shriller than all the music,',\n",
       " u'    Cry \"Caesar.\" Speak, Caesar is turn\\'d to hear.',\n",
       " u'  SOOTHSAYER. Beware the ides of March.',\n",
       " u'  CAESAR. What man is that?',\n",
       " u'  BRUTUS. A soothsayer you beware the ides of March.',\n",
       " u'  CAESAR. Set him before me let me see his face.',\n",
       " u'  CASSIUS. Fellow, come from the throng; look upon Caesar.',\n",
       " u\"  CAESAR. What say'st thou to me now? Speak once again.\",\n",
       " u'  SOOTHSAYER. Beware the ides of March.',\n",
       " u'  CAESAR. He is a dreamer; let us leave him. Pass.',\n",
       " u'                      Sennet. Exeunt all but Brutus and Cassius.',\n",
       " u'  CASSIUS. Will you go see the order of the course?',\n",
       " u'  BRUTUS. Not I.',\n",
       " u'  CASSIUS. I pray you, do.',\n",
       " u'  BRUTUS. I am not gamesome; I do lack some part',\n",
       " u'    Of that quick spirit that is in Antony. ',\n",
       " u'    Let me not hinder, Cassius, your desires;',\n",
       " u\"    I'll leave you.\",\n",
       " u'  CASSIUS. Brutus, I do observe you now of late;',\n",
       " u'    I have not from your eyes that gentleness',\n",
       " u'    And show of love as I was wont to have;',\n",
       " u'    You bear too stubborn and too strange a hand',\n",
       " u'    Over your friend that loves you.',\n",
       " u'  BRUTUS. Cassius,',\n",
       " u\"    Be not deceived; if I have veil'd my look,\",\n",
       " u'    I turn the trouble of my countenance',\n",
       " u'    Merely upon myself. Vexed I am',\n",
       " u'    Of late with passions of some difference,',\n",
       " u'    Conceptions only proper to myself,',\n",
       " u'    Which give some soil perhaps to my behaviors;',\n",
       " u'    But let not therefore my good friends be grieved-',\n",
       " u'    Among which number, Cassius, be you one-',\n",
       " u'    Nor construe any further my neglect',\n",
       " u'    Than that poor Brutus with himself at war',\n",
       " u'    Forgets the shows of love to other men.',\n",
       " u'  CASSIUS. Then, Brutus, I have much mistook your passion, ',\n",
       " u'    By means whereof this breast of mine hath buried',\n",
       " u'    Thoughts of great value, worthy cogitations.',\n",
       " u'    Tell me, good Brutus, can you see your face?',\n",
       " u'  BRUTUS. No, Cassius, for the eye sees not itself',\n",
       " u'    But by reflection, by some other things.',\n",
       " u\"  CASSIUS. 'Tis just,\",\n",
       " u'    And it is very much lamented, Brutus,',\n",
       " u'    That you have no such mirrors as will turn',\n",
       " u'    Your hidden worthiness into your eye',\n",
       " u'    That you might see your shadow. I have heard',\n",
       " u'    Where many of the best respect in Rome,',\n",
       " u'    Except immortal Caesar, speaking of Brutus',\n",
       " u\"    And groaning underneath this age's yoke,\",\n",
       " u\"    Have wish'd that noble Brutus had his eyes.\",\n",
       " u'  BRUTUS. Into what dangers would you lead me, Cassius,',\n",
       " u'    That you would have me seek into myself',\n",
       " u'    For that which is not in me?',\n",
       " u'  CASSIUS. Therefore, good Brutus, be prepared to hear,',\n",
       " u'    And since you know you cannot see yourself',\n",
       " u'    So well as by reflection, I your glass ',\n",
       " u'    Will modestly discover to yourself',\n",
       " u'    That of yourself which you yet know not of.',\n",
       " u'    And be not jealous on me, gentle Brutus;',\n",
       " u'    Were I a common laugher, or did use',\n",
       " u'    To stale with ordinary oaths my love',\n",
       " u'    To every new protester, if you know',\n",
       " u'    That I do fawn on men and hug them hard',\n",
       " u'    And after scandal them, or if you know',\n",
       " u'    That I profess myself in banqueting',\n",
       " u'    To all the rout, then hold me dangerous.',\n",
       " u'                                             Flourish and shout.',\n",
       " u'  BRUTUS. What means this shouting? I do fear the people',\n",
       " u'    Choose Caesar for their king.',\n",
       " u'  CASSIUS. Ay, do you fear it?',\n",
       " u'    Then must I think you would not have it so.',\n",
       " u'  BRUTUS. I would not, Cassius, yet I love him well.',\n",
       " u'    But wherefore do you hold me here so long?',\n",
       " u'    What is it that you would impart to me?',\n",
       " u'    If it be aught toward the general good,',\n",
       " u\"    Set honor in one eye and death i' the other \",\n",
       " u'    And I will look on both indifferently.',\n",
       " u'    For let the gods so speed me as I love',\n",
       " u'    The name of honor more than I fear death.',\n",
       " u'  CASSIUS. I know that virtue to be in you, Brutus,',\n",
       " u'    As well as I do know your outward favor.',\n",
       " u'    Well, honor is the subject of my story.',\n",
       " u'    I cannot tell what you and other men',\n",
       " u'    Think of this life, but, for my single self,',\n",
       " u'    I had as lief not be as live to be',\n",
       " u'    In awe of such a thing as I myself.',\n",
       " u'    I was born free as Caesar, so were you;',\n",
       " u'    We both have fed as well, and we can both',\n",
       " u\"    Endure the winter's cold as well as he.\",\n",
       " u'    For once, upon a raw and gusty day,',\n",
       " u'    The troubled Tiber chafing with her shores,',\n",
       " u'    Caesar said to me, \"Darest thou, Cassius, now',\n",
       " u'    Leap in with me into this angry flood',\n",
       " u'    And swim to yonder point?\" Upon the word,',\n",
       " u'    Accoutred as I was, I plunged in',\n",
       " u'    And bade him follow. So indeed he did. ',\n",
       " u\"    The torrent roar'd, and we did buffet it\",\n",
       " u'    With lusty sinews, throwing it aside',\n",
       " u'    And stemming it with hearts of controversy.',\n",
       " u'    But ere we could arrive the point proposed,',\n",
       " u'    Caesar cried, \"Help me, Cassius, or I sink!',\n",
       " u'    I, as Aeneas our great ancestor',\n",
       " u'    Did from the flames of Troy upon his shoulder',\n",
       " u'    The old Anchises bear, so from the waves of Tiber',\n",
       " u'    Did I the tired Caesar. And this man',\n",
       " u'    Is now become a god, and Cassius is',\n",
       " u'    A wretched creature and must bend his body',\n",
       " u'    If Caesar carelessly but nod on him.',\n",
       " u'    He had a fever when he was in Spain,',\n",
       " u'    And when the fit was on him I did mark',\n",
       " u\"    How he did shake. 'Tis true, this god did shake;\",\n",
       " u'    His coward lips did from their color fly,',\n",
       " u'    And that same eye whose bend doth awe the world',\n",
       " u'    Did lose his luster. I did hear him groan.',\n",
       " u'    Ay, and that tongue of his that bade the Romans',\n",
       " u'    Mark him and write his speeches in their books, ',\n",
       " u'    Alas, it cried, \"Give me some drink, Titinius,\"',\n",
       " u'    As a sick girl. Ye gods! It doth amaze me',\n",
       " u'    A man of such a feeble temper should',\n",
       " u'    So get the start of the majestic world',\n",
       " u'    And bear the palm alone. Shout.                    Flourish.',\n",
       " u'  BRUTUS. Another general shout!',\n",
       " u'    I do believe that these applauses are',\n",
       " u\"    For some new honors that are heap'd on Caesar.\",\n",
       " u'  CASSIUS. Why, man, he doth bestride the narrow world',\n",
       " u'    Like a Colossus, and we petty men',\n",
       " u'    Walk under his huge legs and peep about',\n",
       " u'    To find ourselves dishonorable graves.',\n",
       " u'    Men at some time are masters of their fates:',\n",
       " u'    The fault, dear Brutus, is not in our stars,',\n",
       " u'    But in ourselves that we are underlings.',\n",
       " u'    Brutus and Caesar: what should be in that \"Caesar\"?',\n",
       " u'    Why should that name be sounded more than yours?',\n",
       " u'    Write them together, yours is as fair a name;',\n",
       " u'    Sound them, it doth become the mouth as well;',\n",
       " u\"    Weigh them, it is as heavy; conjure with 'em, \",\n",
       " u'    \"Brutus\" will start a spirit as soon as \"Caesar.\"',\n",
       " u'    Now, in the names of all the gods at once,',\n",
       " u'    Upon what meat doth this our Caesar feed',\n",
       " u'    That he is grown so great? Age, thou art shamed!',\n",
       " u'    Rome, thou hast lost the breed of noble bloods!',\n",
       " u'    When went there by an age since the great flood',\n",
       " u'    But it was famed with more than with one man?',\n",
       " u\"    When could they say till now that talk'd of Rome\",\n",
       " u\"    That her wide walls encompass'd but one man?\",\n",
       " u'    Now is it Rome indeed, and room enough,',\n",
       " u'    When there is in it but one only man.',\n",
       " u'    O, you and I have heard our fathers say',\n",
       " u\"    There was a Brutus once that would have brook'd\",\n",
       " u'    The eternal devil to keep his state in Rome',\n",
       " u'    As easily as a king.',\n",
       " u'  BRUTUS. That you do love me, I am nothing jealous;',\n",
       " u'    What you would work me to, I have some aim.',\n",
       " u'    How I have thought of this and of these times,',\n",
       " u'    I shall recount hereafter; for this present,',\n",
       " u'    I would not, so with love I might entreat you, ',\n",
       " u'    Be any further moved. What you have said',\n",
       " u'    I will consider; what you have to say',\n",
       " u'    I will with patience hear, and find a time',\n",
       " u'    Both meet to hear and answer such high things.',\n",
       " u'    Till then, my noble friend, chew upon this:',\n",
       " u'    Brutus had rather be a villager',\n",
       " u'    Than to repute himself a son of Rome',\n",
       " u'    Under these hard conditions as this time',\n",
       " u'    Is like to lay upon us.',\n",
       " u'  CASSIUS. I am glad that my weak words',\n",
       " u'    Have struck but thus much show of fire from Brutus.',\n",
       " u'',\n",
       " u'            Re-enter Caesar and his Train.',\n",
       " u'',\n",
       " u'  BRUTUS. The games are done, and Caesar is returning.',\n",
       " u'  CASSIUS. As they pass by, pluck Casca by the sleeve,',\n",
       " u'    And he will, after his sour fashion, tell you',\n",
       " u'    What hath proceeded worthy note today.',\n",
       " u'  BRUTUS. I will do so. But, look you, Cassius,',\n",
       " u\"    The angry spot doth glow on Caesar's brow, \",\n",
       " u'    And all the rest look like a chidden train:',\n",
       " u\"    Calpurnia's cheek is pale, and Cicero\",\n",
       " u'    Looks with such ferret and such fiery eyes',\n",
       " u'    As we have seen him in the Capitol,',\n",
       " u\"    Being cross'd in conference by some senators.\",\n",
       " u'  CASSIUS. Casca will tell us what the matter is.',\n",
       " u'  CAESAR. Antonio!',\n",
       " u'  ANTONY. Caesar?',\n",
       " u'  CAESAR. Let me have men about me that are fat,',\n",
       " u\"    Sleek-headed men, and such as sleep o' nights:\",\n",
       " u'    Yond Cassius has a lean and hungry look;',\n",
       " u'    He thinks too much; such men are dangerous.',\n",
       " u\"  ANTONY. Fear him not, Caesar; he's not dangerous;\",\n",
       " u'    He is a noble Roman and well given.',\n",
       " u'  CAESAR. Would he were fatter! But I fear him not,',\n",
       " u'    Yet if my name were liable to fear,',\n",
       " u'    I do not know the man I should avoid',\n",
       " u'    So soon as that spare Cassius. He reads much,',\n",
       " u'    He is a great observer, and he looks',\n",
       " u'    Quite through the deeds of men. He loves no plays, ',\n",
       " u'    As thou dost, Antony; he hears no music;',\n",
       " u'    Seldom he smiles, and smiles in such a sort',\n",
       " u\"    As if he mock'd himself and scorn'd his spirit\",\n",
       " u'    That could be moved to smile at anything.',\n",
       " u\"    Such men as he be never at heart's ease\",\n",
       " u'    Whiles they behold a greater than themselves,',\n",
       " u'    And therefore are they very dangerous.',\n",
       " u\"    I rather tell thee what is to be fear'd\",\n",
       " u'    Than what I fear, for always I am Caesar.',\n",
       " u'    Come on my right hand, for this ear is deaf,',\n",
       " u\"    And tell me truly what thou think'st of him.\",\n",
       " u'              Sennet. Exeunt Caesar and all his Train but Casca.',\n",
       " u\"  CASCA. You pull'd me by the cloak; would you speak with me?\",\n",
       " u'  BRUTUS. Ay, Casca, tell us what hath chanced today',\n",
       " u'    That Caesar looks so sad.',\n",
       " u'  CASCA. Why, you were with him, were you not?',\n",
       " u'  BRUTUS. I should not then ask Casca what had chanced.',\n",
       " u'  CASCA. Why, there was a crown offered him, and being offered',\n",
       " u'him,',\n",
       " u'     he put it by with the back of his hand, thus, and then the',\n",
       " u'     people fell ashouting. ',\n",
       " u'  BRUTUS. What was the second noise for?',\n",
       " u'  CASCA. Why, for that too.',\n",
       " u'  CASSIUS. They shouted thrice. What was the last cry for?',\n",
       " u'  CASCA. Why, for that too.',\n",
       " u'  BRUTUS. Was the crown offered him thrice?',\n",
       " u'  CASCA. Ay, marry, wast, and he put it by thrice, every time',\n",
       " u'gentler',\n",
       " u'    than other, and at every putting by mine honest neighbors',\n",
       " u'    shouted.',\n",
       " u'  CASSIUS. Who offered him the crown?',\n",
       " u'  CASCA. Why, Antony.',\n",
       " u'  BRUTUS. Tell us the manner of it, gentle Casca.',\n",
       " u\"  CASCA. I can as well be hang'd as tell the manner of it. It was\",\n",
       " u'    mere foolery; I did not mark it. I saw Mark Antony offer him',\n",
       " u'a',\n",
       " u\"    crown (yet 'twas not a crown neither, 'twas one of these\",\n",
       " u'    coronets) and, as I told you, he put it by once. But for all',\n",
       " u'    that, to my thinking, he would fain have had it. Then he',\n",
       " u'offered',\n",
       " u'    it to him again; then he put it by again. But, to my',\n",
       " u'thinking, he',\n",
       " u'    was very loath to lay his fingers off it. And then he offered',\n",
       " u'it',\n",
       " u'    the third time; he put it the third time by; and still as he',\n",
       " u'    refused it, the rabblement hooted and clapped their chopped',\n",
       " u'hands ',\n",
       " u'    and threw up their sweaty nightcaps and uttered such a deal',\n",
       " u'of',\n",
       " u'    stinking breath because Caesar refused the crown that it had',\n",
       " u'    almost choked Caesar, for he swounded and fell down at it.',\n",
       " u'And',\n",
       " u'    for mine own part, I durst not laugh for fear of opening my',\n",
       " u'lips',\n",
       " u'    and receiving the bad air.',\n",
       " u'  CASSIUS. But, soft, I pray you, what, did Caesars wound?',\n",
       " u'  CASCA. He fell down in the marketplace and foamed at mouth and',\n",
       " u'was',\n",
       " u'    speechless.',\n",
       " u\"  BRUTUS. 'Tis very like. He hath the falling sickness.\",\n",
       " u'  CASSIUS. No, Caesar hath it not, but you, and I,',\n",
       " u'    And honest Casca, we have the falling sickness.',\n",
       " u'  CASCA. I know not what you mean by that, but I am sure Caesar',\n",
       " u'fell',\n",
       " u'    down. If the tagrag people did not clap him and hiss him',\n",
       " u'    according as he pleased and displeased them, as they use to',\n",
       " u'do',\n",
       " u'    the players in the theatre, I am no true man.',\n",
       " u'  BRUTUS. What said he when he came unto himself?',\n",
       " u'  CASCA. Marry, before he fell down, when he perceived the common',\n",
       " u'    herd was glad he refused the crown, he plucked me ope his',\n",
       " u'doublet',\n",
       " u'    and offered them his throat to cut. An had been a man of any',\n",
       " u'    occupation, if I would not have taken him at a word, I would',\n",
       " u'I ',\n",
       " u'    might go to hell among the rogues. And so he fell. When he',\n",
       " u'came',\n",
       " u'    to himself again, he said, if he had done or said anything',\n",
       " u'amiss,',\n",
       " u'    he desired their worships to think it was his infirmity.',\n",
       " u'Three or',\n",
       " u'    four wenches where I stood cried, \"Alas, good soul!\" and',\n",
       " u'forgave',\n",
       " u\"    him with all their hearts. But there's no heed to be taken of\",\n",
       " u'    them; if Caesar had stabbed their mothers, they would have',\n",
       " u'done',\n",
       " u'    no less.',\n",
       " u'  BRUTUS. And after that he came, thus sad, away?',\n",
       " u'  CASCA. Ay.',\n",
       " u'  CASSIUS. Did Cicero say anything?',\n",
       " u'  CASCA. Ay, he spoke Greek.',\n",
       " u'  CASSIUS. To what effect?',\n",
       " u\"  CASCA. Nay, an I tell you that, I'll ne'er look you i' the face\",\n",
       " u'    again; but those that understood him smiled at one another',\n",
       " u'and',\n",
       " u'    shook their heads; but for mine own part, it was Greek to me.',\n",
       " u'I',\n",
       " u'    could tell you more news too: Marullus and Flavius, for',\n",
       " u'pulling',\n",
       " u\"    scarfs off Caesar's images, are put to silence. Fare you\",\n",
       " u'well.',\n",
       " u'    There was more foolery yet, if could remember it.',\n",
       " u'  CASSIUS. Will you sup with me tonight, Casca?',\n",
       " u'  CASCA. No, I am promised forth. ',\n",
       " u'  CASSIUS. Will you dine with me tomorrow?',\n",
       " u'  CASCA. Ay, if I be alive, and your mind hold, and your dinner',\n",
       " u'worth',\n",
       " u'    the eating.',\n",
       " u'  CASSIUS. Good, I will expect you.',\n",
       " u'  CASCA. Do so, farewell, both.                            Exit.',\n",
       " u'  BRUTUS. What a blunt fellow is this grown to be!',\n",
       " u'    He was quick mettle when he went to school.',\n",
       " u'  CASSIUS. So is he now in execution',\n",
       " u'    Of any bold or noble enterprise,',\n",
       " u'    However he puts on this tardy form.',\n",
       " u'    This rudeness is a sauce to his good wit,',\n",
       " u'    Which gives men stomach to digest his words',\n",
       " u'    With better appetite.',\n",
       " u'  BRUTUS. And so it is. For this time I will leave you.',\n",
       " u'    Tomorrow, if you please to speak with me,',\n",
       " u'    I will come home to you, or, if you will,',\n",
       " u'    Come home to me and I will wait for you.',\n",
       " u'  CASSIUS. I will do so. Till then, think of the world.',\n",
       " u'                                                    Exit Brutus.',\n",
       " u'    Well, Brutus, thou art noble; yet, I see ',\n",
       " u'    Thy honorable mettle may be wrought',\n",
       " u'    From that it is disposed; therefore it is meet',\n",
       " u'    That noble minds keep ever with their likes;',\n",
       " u'    For who so firm that cannot be seduced?',\n",
       " u'    Caesar doth bear me hard, but he loves Brutus.',\n",
       " u'    If I were Brutus now and he were Cassius,',\n",
       " u'    He should not humor me. I will this night,',\n",
       " u'    In several hands, in at his windows throw,',\n",
       " u'    As if they came from several citizens,',\n",
       " u'    Writings, all tending to the great opinion',\n",
       " u'    That Rome holds of his name, wherein obscurely',\n",
       " u\"    Caesar's ambition shall be glanced at.\",\n",
       " u'    And after this let Caesar seat him sure;',\n",
       " u'    For we will shake him, or worse days endure.           Exit.',\n",
       " u'',\n",
       " u'',\n",
       " u'',\n",
       " u'',\n",
       " u'SCENE III.',\n",
       " u'A street. Thunder and lightning.',\n",
       " u'',\n",
       " u'Enter, from opposite sides, Casca, with his sword drawn, and',\n",
       " u'Cicero.',\n",
       " u'',\n",
       " u'  CICERO. Good even, Casca. Brought you Caesar home?',\n",
       " u'    Why are you breathless, and why stare you so?',\n",
       " u'  CASCA. Are not you moved, when all the sway of earth',\n",
       " u'    Shakes like a thing unfirm? O Cicero,',\n",
       " u'    I have seen tempests when the scolding winds',\n",
       " u'    Have rived the knotty oaks, and I have seen',\n",
       " u'    The ambitious ocean swell and rage and foam',\n",
       " u'    To be exalted with the threatening clouds,',\n",
       " u'    But never till tonight, never till now,',\n",
       " u'    Did I go through a tempest dropping fire.',\n",
       " u'    Either there is a civil strife in heaven,',\n",
       " u'    Or else the world too saucy with the gods',\n",
       " u'    Incenses them to send destruction.',\n",
       " u'  CICERO. Why, saw you anything more wonderful?',\n",
       " u'  CASCA. A common slave- you know him well by sight-',\n",
       " u'    Held up his left hand, which did flame and burn ',\n",
       " u\"    Like twenty torches join'd, and yet his hand\",\n",
       " u\"    Not sensible of fire remain'd unscorch'd.\",\n",
       " u\"    Besides- I ha' not since put up my sword-\",\n",
       " u'    Against the Capitol I met a lion,',\n",
       " u\"    Who glaz'd upon me and went surly by\",\n",
       " u'    Without annoying me. And there were drawn',\n",
       " u'    Upon a heap a hundred ghastly women',\n",
       " u'    Transformed with their fear, who swore they saw',\n",
       " u'    Men all in fire walk up and down the streets.',\n",
       " u'    And yesterday the bird of night did sit',\n",
       " u'    Even at noonday upon the marketplace,',\n",
       " u'    Howling and shrieking. When these prodigies',\n",
       " u'    Do so conjointly meet, let not men say',\n",
       " u'    \"These are their reasons; they are natural\":',\n",
       " u'    For I believe they are portentous things',\n",
       " u'    Unto the climate that they point upon.',\n",
       " u'  CICERO. Indeed, it is a strange-disposed time.',\n",
       " u'    But men may construe things after their fashion,',\n",
       " u'    Clean from the purpose of the things themselves.',\n",
       " u'    Comes Caesar to the Capitol tomorrow? ',\n",
       " u'  CASCA. He doth, for he did bid Antonio',\n",
       " u'    Send word to you he would be there tomorrow.',\n",
       " u'  CICERO. Good then, Casca. This disturbed sky',\n",
       " u'    Is not to walk in.',\n",
       " u'  CASCA. Farewell, Cicero.                          Exit Cicero.',\n",
       " u'',\n",
       " u'                        Enter Cassius.',\n",
       " u'',\n",
       " u\"  CASSIUS. Who's there?\",\n",
       " u'  CASCA. A Roman.',\n",
       " u'  CASSIUS. Casca, by your voice.',\n",
       " u'  CASCA. Your ear is good. Cassius, what night is this!',\n",
       " u'  CASSIUS. A very pleasing night to honest men.',\n",
       " u'  CASCA. Who ever knew the heavens menace so?',\n",
       " u'  CASSIUS. Those that have known the earth so full of faults.',\n",
       " u\"    For my part, I have walk'd about the streets,\",\n",
       " u'    Submitting me unto the perilous night,',\n",
       " u'    And thus unbraced, Casca, as you see,',\n",
       " u'    Have bared my bosom to the thunderstone;',\n",
       " u\"    And when the cross blue lightning seem'd to open \",\n",
       " u'    The breast of heaven, I did present myself',\n",
       " u'    Even in the aim and very flash of it.',\n",
       " u'  CASCA. But wherefore did you so much tempt the heavens?',\n",
       " u'    It is the part of men to fear and tremble',\n",
       " u'    When the most mighty gods by tokens send',\n",
       " u'    Such dreadful heralds to astonish us.',\n",
       " u'  CASSIUS. You are dull, Casca, and those sparks of life',\n",
       " u'    That should be in a Roman you do want,',\n",
       " u'    Or else you use not. You look pale and gaze',\n",
       " u'    And put on fear and cast yourself in wonder',\n",
       " u'    To see the strange impatience of the heavens.',\n",
       " u'    But if you would consider the true cause',\n",
       " u'    Why all these fires, why all these gliding ghosts,',\n",
       " u'    Why birds and beasts from quality and kind,',\n",
       " u'    Why old men, fools, and children calculate,',\n",
       " u'    Why all these things change from their ordinance,',\n",
       " u'    Their natures, and preformed faculties',\n",
       " u'    To monstrous quality, why, you shall find',\n",
       " u'    That heaven hath infused them with these spirits',\n",
       " u'    To make them instruments of fear and warning ',\n",
       " u'    Unto some monstrous state.',\n",
       " u'    Now could I, Casca, name to thee a man',\n",
       " u'    Most like this dreadful night,',\n",
       " u'    That thunders, lightens, opens graves, and roars',\n",
       " u'    As doth the lion in the Capitol,',\n",
       " u'    A man no mightier than thyself or me',\n",
       " u'    In personal action, yet prodigious grown',\n",
       " u'    And fearful, as these strange eruptions are.',\n",
       " u\"  CASCA. 'Tis Caesar that you mean, is it not, Cassius?\",\n",
       " u'  CASSIUS. Let it be who it is, for Romans now',\n",
       " u'    Have thews and limbs like to their ancestors.',\n",
       " u\"    But, woe the while! Our fathers' minds are dead,\",\n",
       " u\"    And we are govern'd with our mothers' spirits;\",\n",
       " u'    Our yoke and sufferance show us womanish.',\n",
       " u'  CASCA. Indeed they say the senators tomorrow',\n",
       " u'    Mean to establish Caesar as a king,',\n",
       " u'    And he shall wear his crown by sea and land',\n",
       " u'    In every place save here in Italy.',\n",
       " u'  CASSIUS. I know where I will wear this dagger then:',\n",
       " u'    Cassius from bondage will deliver Cassius. ',\n",
       " u'    Therein, ye gods, you make the weak most strong;',\n",
       " u'    Therein, ye gods, you tyrants do defeat.',\n",
       " u'    Nor stony tower, nor walls of beaten brass,',\n",
       " u'    Nor airless dungeon, nor strong links of iron',\n",
       " u'    Can be retentive to the strength of spirit;',\n",
       " u'    But life, being weary of these worldly bars,',\n",
       " u'    Never lacks power to dismiss itself.',\n",
       " u'    If I know this, know all the world besides,',\n",
       " u'    That part of tyranny that I do bear',\n",
       " u'    I can shake off at pleasure.                  Thunder still.',\n",
       " u'  CASCA. So can I.',\n",
       " u'    So every bondman in his own hand bears',\n",
       " u'    The power to cancel his captivity.',\n",
       " u'  CASSIUS. And why should Caesar be a tyrant then?',\n",
       " u'    Poor man! I know he would not be a wolf',\n",
       " u'    But that he sees the Romans are but sheep.',\n",
       " u'    He were no lion, were not Romans hinds.',\n",
       " u'    Those that with haste will make a mighty fire',\n",
       " u'    Begin it with weak straws. What trash is Rome,',\n",
       " u'    What rubbish, and what offal, when it serves ',\n",
       " u'    For the base matter to illuminate',\n",
       " u'    So vile a thing as Caesar? But, O grief,',\n",
       " u'    Where hast thou led me? I perhaps speak this',\n",
       " u'    Before a willing bondman; then I know',\n",
       " u\"    My answer must be made. But I am arm'd,\",\n",
       " u'    And dangers are to me indifferent.',\n",
       " u'  CASCA. You speak to Casca, and to such a man',\n",
       " u'    That is no fleering tell-tale. Hold, my hand.',\n",
       " u'    Be factious for redress of all these griefs,',\n",
       " u'    And I will set this foot of mine as far',\n",
       " u'    As who goes farthest.',\n",
       " u\"  CASSIUS. There's a bargain made.\",\n",
       " u'    Now know you, Casca, I have moved already',\n",
       " u'    Some certain of the noblest-minded Romans',\n",
       " u'    To undergo with me an enterprise',\n",
       " u'    Of honorable-dangerous consequence;',\n",
       " u'    And I do know by this, they stay for me',\n",
       " u\"    In Pompey's Porch. For now, this fearful night,\",\n",
       " u'    There is no stir or walking in the streets,',\n",
       " u'    And the complexion of the element ',\n",
       " u\"    In favor's like the work we have in hand,\",\n",
       " u'    Most bloody, fiery, and most terrible.',\n",
       " u'',\n",
       " u'                       Enter Cinna.',\n",
       " u'',\n",
       " u'  CASCA. Stand close awhile, for here comes one in haste.',\n",
       " u\"  CASSIUS. 'Tis Cinna, I do know him by his gait;\",\n",
       " u'    He is a friend. Cinna, where haste you so?',\n",
       " u\"  CINNA. To find out you. Who's that? Metellus Cimber?\",\n",
       " u'  CASSIUS. No, it is Casca, one incorporate',\n",
       " u\"    To our attempts. Am I not stay'd for, Cinna?\",\n",
       " u\"  CINNA. I am glad on't. What a fearful night is this!\",\n",
       " u\"    There's two or three of us have seen strange sights.\",\n",
       " u\"  CASSIUS. Am I not stay'd for? Tell me.\",\n",
       " u'  CINNA. Yes, you are.',\n",
       " u'    O Cassius, if you could',\n",
       " u'    But win the noble Brutus to our party-',\n",
       " u'  CASSIUS. Be you content. Good Cinna, take this paper,',\n",
       " u\"    And look you lay it in the praetor's chair,\",\n",
       " u'    Where Brutus may but find it; and throw this ',\n",
       " u'    In at his window; set this up with wax',\n",
       " u\"    Upon old Brutus' statue. All this done,\",\n",
       " u\"    Repair to Pompey's Porch, where you shall find us.\",\n",
       " u'    Is Decius Brutus and Trebonius there?',\n",
       " u\"  CINNA. All but Metellus Cimber, and he's gone\",\n",
       " u'    To seek you at your house. Well, I will hie',\n",
       " u'    And so bestow these papers as you bade me.',\n",
       " u\"  CASSIUS. That done, repair to Pompey's Theatre.\",\n",
       " u'                                                     Exit Cinna.',\n",
       " u'    Come, Casca, you and I will yet ere day',\n",
       " u'    See Brutus at his house. Three parts of him',\n",
       " u'    Is ours already, and the man entire',\n",
       " u'    Upon the next encounter yields him ours.',\n",
       " u\"  CASCA. O, he sits high in all the people's hearts,\",\n",
       " u'    And that which would appear offense in us,',\n",
       " u'    His countenance, like richest alchemy,',\n",
       " u'    Will change to virtue and to worthiness.',\n",
       " u'  CASSIUS. Him and his worth and our great need of him',\n",
       " u'    You have right well conceited. Let us go,',\n",
       " u'    For it is after midnight, and ere day ',\n",
       " u'    We will awake him and be sure of him.                Exeunt.',\n",
       " u'',\n",
       " u'',\n",
       " u'',\n",
       " u'',\n",
       " u'<<THIS ELECTRONIC VERSION OF THE COMPLETE WORKS OF WILLIAM',\n",
       " u'SHAKESPEARE IS COPYRIGHT 1990-1993 BY WORLD LIBRARY, INC., AND IS',\n",
       " u'PROVIDED BY PROJECT GUTENBERG ETEXT OF CARNEGIE MELLON UNIVERSITY',\n",
       " u'WITH PERMISSION.  ELECTRONIC AND MACHINE READABLE COPIES MAY BE',\n",
       " u'DISTRIBUTED SO LONG AS SUCH COPIES (1) ARE FOR YOUR OR OTHERS',\n",
       " u'PERSONAL USE ONLY, AND (2) ARE NOT DISTRIBUTED OR USED',\n",
       " u'COMMERCIALLY.  PROHIBITED COMMERCIAL DISTRIBUTION INCLUDES BY ANY',\n",
       " u'SERVICE THAT CHARGES FOR DOWNLOAD TIME OR FOR MEMBERSHIP.>>',\n",
       " u'',\n",
       " u'',\n",
       " u'',\n",
       " u'ACT II. SCENE I.',\n",
       " u'',\n",
       " u'Enter Brutus in his orchard.',\n",
       " u'',\n",
       " u'  BRUTUS. What, Lucius, ho!',\n",
       " u'    I cannot, by the progress of the stars,',\n",
       " u'    Give guess how near to day. Lucius, I say!',\n",
       " u'    I would it were my fault to sleep so soundly.',\n",
       " u'    When, Lucius, when? Awake, I say! What, Lucius!',\n",
       " u'',\n",
       " u'                            Enter Lucius.',\n",
       " u'',\n",
       " u\"  LUCIUS. Call'd you, my lord?\",\n",
       " u'  BRUTUS. Get me a taper in my study, Lucius.',\n",
       " u'    When it is lighted, come and call me here.',\n",
       " u'  LUCIUS. I will, my lord.                                 Exit.',\n",
       " u'  BRUTUS. It must be by his death, and, for my part,',\n",
       " u'    I know no personal cause to spurn at him,',\n",
       " u\"    But for the general. He would be crown'd:\",\n",
       " u\"    How that might change his nature, there's the question.\",\n",
       " u'    It is the bright day that brings forth the adder',\n",
       " u'    And that craves wary walking. Crown him that, ',\n",
       " u'    And then, I grant, we put a sting in him',\n",
       " u'    That at his will he may do danger with.',\n",
       " u'    The abuse of greatness is when it disjoins',\n",
       " u'    Remorse from power, and, to speak truth of Caesar,',\n",
       " u\"    I have not known when his affections sway'd\",\n",
       " u\"    More than his reason. But 'tis a common proof\",\n",
       " u\"    That lowliness is young ambition's ladder,\",\n",
       " u'    Whereto the climber-upward turns his face;',\n",
       " u'    But when he once attains the upmost round,',\n",
       " u'    He then unto the ladder turns his back,',\n",
       " u'    Looks in the clouds, scorning the base degrees',\n",
       " u'    By which he did ascend. So Caesar may;',\n",
       " u'    Then, lest he may, prevent. And, since the quarrel',\n",
       " u'    Will bear no color for the thing he is,',\n",
       " u'    Fashion it thus, that what he is, augmented,',\n",
       " u'    Would run to these and these extremities;',\n",
       " u\"    And therefore think him as a serpent's egg\",\n",
       " u\"    Which hatch'd would as his kind grow mischievous,\",\n",
       " u'    And kill him in the shell.',\n",
       " u' ',\n",
       " u'                        Re-enter Lucius.',\n",
       " u'',\n",
       " u'  LUCIUS. The taper burneth in your closet, sir.',\n",
       " u'    Searching the window for a flint I found',\n",
       " u\"    This paper thus seal'd up, and I am sure\",\n",
       " u'    It did not lie there when I went to bed.',\n",
       " u'                                           Gives him the letter.',\n",
       " u'  BRUTUS. Get you to bed again, it is not day.',\n",
       " u'    Is not tomorrow, boy, the ides of March?',\n",
       " u'  LUCIUS. I know not, sir.',\n",
       " u'  BRUTUS. Look in the calendar and bring me word.',\n",
       " u'  LUCIUS. I will, sir.                                     Exit.',\n",
       " u'  BRUTUS. The exhalations whizzing in the air',\n",
       " u'    Give so much light that I may read by them.',\n",
       " u'                                     Opens the letter and reads.',\n",
       " u'    \"Brutus, thou sleep\\'st: awake and see thyself!',\n",
       " u'    Shall Rome, etc. Speak, strike, redress!\"',\n",
       " u'',\n",
       " u'    \"Brutus, thou sleep\\'st: awake!\"',\n",
       " u\"    Such instigations have been often dropp'd \",\n",
       " u'    Where I have took them up.',\n",
       " u'    \"Shall Rome, etc.\" Thus must I piece it out.',\n",
       " u\"    Shall Rome stand under one man's awe? What, Rome?\",\n",
       " u'    My ancestors did from the streets of Rome',\n",
       " u\"    The Tarquin drive, when he was call'd a king.\",\n",
       " u'    \"Speak, strike, redress!\" Am I entreated',\n",
       " u'    To speak and strike? O Rome, I make thee promise,',\n",
       " u'    If the redress will follow, thou receivest',\n",
       " u'    Thy full petition at the hand of Brutus!',\n",
       " u'',\n",
       " u'                        Re-enter Lucius.',\n",
       " u'',\n",
       " u'  LUCIUS. Sir, March is wasted fifteen days.',\n",
       " u'                                                Knocking within.',\n",
       " u\"  BRUTUS. 'Tis good. Go to the gate, somebody knocks.\",\n",
       " u'                                                    Exit Lucius.',\n",
       " u'    Since Cassius first did whet me against Caesar',\n",
       " u'    I have not slept.',\n",
       " u'    Between the acting of a dreadful thing',\n",
       " u'    And the first motion, all the interim is ',\n",
       " u'    Like a phantasma or a hideous dream;',\n",
       " u'    The genius and the mortal instruments',\n",
       " u'    Are then in council, and the state of man,',\n",
       " u'    Like to a little kingdom, suffers then',\n",
       " u'    The nature of an insurrection.',\n",
       " u'',\n",
       " u'                         Re-enter Lucius.',\n",
       " u'',\n",
       " u\"  LUCIUS. Sir, 'tis your brother Cassius at the door,\",\n",
       " u'    Who doth desire to see you.',\n",
       " u'  BRUTUS. Is he alone?',\n",
       " u'  LUCIUS. No, sir, there are more with him.',\n",
       " u'  BRUTUS. Do you know them?',\n",
       " u\"  LUCIUS. No, sir, their hats are pluck'd about their ears,\",\n",
       " u'    And half their faces buried in their cloaks,',\n",
       " u'    That by no means I may discover them',\n",
       " u'    By any mark of favor.',\n",
       " u\"  BRUTUS. Let 'em enter.                            Exit Lucius.\",\n",
       " u'    They are the faction. O Conspiracy,',\n",
       " u'    Shamest thou to show thy dangerous brow by night, ',\n",
       " u'    When evils are most free? O, then, by day',\n",
       " u'    Where wilt thou find a cavern dark enough',\n",
       " u'    To mask thy monstrous visage? Seek none, Conspiracy;',\n",
       " u'    Hide it in smiles and affability;',\n",
       " u'    For if thou path, thy native semblance on,',\n",
       " u'    Not Erebus itself were dim enough',\n",
       " u'    To hide thee from prevention.',\n",
       " u'',\n",
       " u'    Enter the conspirators, Cassius, Casca, Decius, Cinna,',\n",
       " u'                Metellus Cimber, and Trebonius.',\n",
       " u'',\n",
       " u'  CASSIUS. I think we are too bold upon your rest.',\n",
       " u'    Good morrow, Brutus, do we trouble you?',\n",
       " u'  BRUTUS. I have been up this hour, awake all night.',\n",
       " u'    Know I these men that come along with you?',\n",
       " u'  CASSIUS. Yes, every man of them, and no man here',\n",
       " u'    But honors you, and every one doth wish',\n",
       " u'    You had but that opinion of yourself',\n",
       " u'    Which every noble Roman bears of you.',\n",
       " u'    This is Trebonius. ',\n",
       " u'  BRUTUS. He is welcome hither.',\n",
       " u'  CASSIUS. This, Decius Brutus.',\n",
       " u'  BRUTUS. He is welcome too.',\n",
       " u'CASSIUS. This, Casca; this, Cinna; and this, Metellus Cimber.',\n",
       " u'  BRUTUS. They are all welcome.',\n",
       " u'    What watchful cares do interpose themselves',\n",
       " u'    Betwixt your eyes and night?',\n",
       " u'  CASSIUS. Shall I entreat a word?                 They whisper.',\n",
       " u'  DECIUS. Here lies the east. Doth not the day break here?',\n",
       " u'  CASCA. No.',\n",
       " u'  CINNA. O, pardon, sir, it doth, and yongrey lines',\n",
       " u'    That fret the clouds are messengers of day.',\n",
       " u'  CASCA. You shall confess that you are both deceived.',\n",
       " u'    Here, as I point my sword, the sun arises,',\n",
       " u'    Which is a great way growing on the south,',\n",
       " u'    Weighing the youthful season of the year.',\n",
       " u'    Some two months hence up higher toward the north',\n",
       " u'    He first presents his fire, and the high east',\n",
       " u'    Stands as the Capitol, directly here.',\n",
       " u'  BRUTUS. Give me your hands all over, one by one.',\n",
       " u'  CASSIUS. And let us swear our resolution. ',\n",
       " u'  BRUTUS. No, not an oath. If not the face of men,',\n",
       " u\"    The sufferance of our souls, the time's abuse-\",\n",
       " u'    If these be motives weak, break off betimes,',\n",
       " u'    And every man hence to his idle bed;',\n",
       " u'    So let high-sighted tyranny range on',\n",
       " u'    Till each man drop by lottery. But if these,',\n",
       " u'    As I am sure they do, bear fire enough',\n",
       " u'    To kindle cowards and to steel with valor',\n",
       " u'    The melting spirits of women, then, countrymen,',\n",
       " u'    What need we any spur but our own cause',\n",
       " u'    To prick us to redress? What other bond',\n",
       " u'    Than secret Romans that have spoke the word',\n",
       " u'    And will not palter? And what other oath',\n",
       " u'    Than honesty to honesty engaged',\n",
       " u'    That this shall be or we will fall for it?',\n",
       " u'    Swear priests and cowards and men cautelous,',\n",
       " u'    Old feeble carrions and such suffering souls',\n",
       " u'    That welcome wrongs; unto bad causes swear',\n",
       " u'    Such creatures as men doubt; but do not stain',\n",
       " u'    The even virtue of our enterprise, ',\n",
       " u'    Nor the insuppressive mettle of our spirits,',\n",
       " u'    To think that or our cause or our performance',\n",
       " u'    Did need an oath; when every drop of blood',\n",
       " u'    That every Roman bears, and nobly bears,',\n",
       " u'    Is guilty of a several bastardy',\n",
       " u'    If he do break the smallest particle',\n",
       " u\"    Of any promise that hath pass'd from him.\",\n",
       " u'  CASSIUS. But what of Cicero? Shall we sound him?',\n",
       " u'    I think he will stand very strong with us.',\n",
       " u'  CASCA. Let us not leave him out.',\n",
       " u'  CINNA. No, by no means.',\n",
       " u'  METELLUS. O, let us have him, for his silver hairs',\n",
       " u'    Will purchase us a good opinion,',\n",
       " u\"    And buy men's voices to commend our deeds.\",\n",
       " u'    It shall be said his judgement ruled our hands;',\n",
       " u'    Our youths and wildness shall no whit appear,',\n",
       " u'    But all be buried in his gravity.',\n",
       " u'  BRUTUS. O, name him not; let us not break with him,',\n",
       " u'    For he will never follow anything',\n",
       " u'    That other men begin. ',\n",
       " u'  CASSIUS. Then leave him out.',\n",
       " u'  CASCA. Indeed he is not fit.',\n",
       " u\"  DECIUS. Shall no man else be touch'd but only Caesar?\",\n",
       " u'  CASSIUS. Decius, well urged. I think it is not meet',\n",
       " u'    Mark Antony, so well beloved of Caesar,',\n",
       " u'    Should outlive Caesar. We shall find of him',\n",
       " u'    A shrewd contriver; and you know his means,',\n",
       " u'    If he improve them, may well stretch so far',\n",
       " u'    As to annoy us all, which to prevent,',\n",
       " u'    Let Antony and Caesar fall together.',\n",
       " u'  BRUTUS. Our course will seem too bloody, Caius Cassius,',\n",
       " u'    To cut the head off and then hack the limbs',\n",
       " u'    Like wrath in death and envy afterwards;',\n",
       " u'    For Antony is but a limb of Caesar.',\n",
       " u'    Let us be sacrificers, but not butchers, Caius.',\n",
       " u'    We all stand up against the spirit of Caesar,',\n",
       " u'    And in the spirit of men there is no blood.',\n",
       " u\"    O, that we then could come by Caesar's spirit,\",\n",
       " u'    And not dismember Caesar! But, alas,',\n",
       " u'    Caesar must bleed for it! And, gentle friends, ',\n",
       " u\"    Let's kill him boldly, but not wrathfully;\",\n",
       " u\"    Let's carve him as a dish fit for the gods,\",\n",
       " u'    Not hew him as a carcass fit for hounds;',\n",
       " u'    And let our hearts, as subtle masters do,',\n",
       " u'    Stir up their servants to an act of rage',\n",
       " u\"    And after seem to chide 'em. This shall make\",\n",
       " u'    Our purpose necessary and not envious,',\n",
       " u'    Which so appearing to the common eyes,',\n",
       " u\"    We shall be call'd purgers, not murderers.\",\n",
       " u'    And for Mark Antony, think not of him,',\n",
       " u\"    For he can do no more than Caesar's arm\",\n",
       " u\"    When Caesar's head is off.\",\n",
       " u'  CASSIUS. Yet I fear him,',\n",
       " u'    For in the ingrated love he bears to Caesar-',\n",
       " u'  BRUTUS. Alas, good Cassius, do not think of him.',\n",
       " u'    If he love Caesar, all that he can do',\n",
       " u'    Is to himself, take thought and die for Caesar.',\n",
       " u'    And that were much he should, for he is given',\n",
       " u'    To sports, to wildness, and much company.',\n",
       " u'  TREBONIUS. There is no fear in him-let him not die, ',\n",
       " u'    For he will live and laugh at this hereafter.',\n",
       " u'                                                  Clock strikes.',\n",
       " u'  BRUTUS. Peace, count the clock.',\n",
       " u'  CASSIUS. The clock hath stricken three.',\n",
       " u\"  TREBONIUS. 'Tis time to part.\",\n",
       " u'  CASSIUS. But it is doubtful yet',\n",
       " u'    Whether Caesar will come forth today or no,',\n",
       " u'    For he is superstitious grown of late,',\n",
       " u'    Quite from the main opinion he held once',\n",
       " u'    Of fantasy, of dreams, and ceremonies.',\n",
       " u'    It may be these apparent prodigies,',\n",
       " u\"    The unaccustom'd terror of this night,\",\n",
       " u'    And the persuasion of his augurers',\n",
       " u'    May hold him from the Capitol today.',\n",
       " u'  DECIUS. Never fear that. If he be so resolved,',\n",
       " u\"    I can o'ersway him, for he loves to hear\",\n",
       " u\"    That unicorns may be betray'd with trees,\",\n",
       " u'    And bears with glasses, elephants with holes,',\n",
       " u'    Lions with toils, and men with flatterers;',\n",
       " u'    But when I tell him he hates flatterers, ',\n",
       " u'    He says he does, being then most flattered.',\n",
       " u'    Let me work;',\n",
       " u'    For I can give his humor the true bent,',\n",
       " u'    And I will bring him to the Capitol.',\n",
       " u'  CASSIUS. Nay, we will all of us be there to fetch him.',\n",
       " u'  BRUTUS. By the eighth hour. Is that the utter most?',\n",
       " u'  CINNA. Be that the uttermost, and fail not then.',\n",
       " u'  METELLUS. Caius Ligarius doth bear Caesar hard,',\n",
       " u'    Who rated him for speaking well of Pompey.',\n",
       " u'    I wonder none of you have thought of him.',\n",
       " u'  BRUTUS. Now, good Metellus, go along by him.',\n",
       " u'    He loves me well, and I have given him reasons;',\n",
       " u\"    Send him but hither, and I'll fashion him.\",\n",
       " u\"  CASSIUS. The morning comes upon 's. We'll leave you, Brutus,\",\n",
       " u'    And, friends, disperse yourselves, but all remember',\n",
       " u'    What you have said and show yourselves true Romans.',\n",
       " u'  BRUTUS. Good gentlemen, look fresh and merrily;',\n",
       " u'    Let not our looks put on our purposes,',\n",
       " u'    But bear it as our Roman actors do,',\n",
       " u'    With untired spirits and formal constancy. ',\n",
       " u'    And so, good morrow to you every one.',\n",
       " u'                                          Exeunt all but Brutus.',\n",
       " u'    Boy! Lucius! Fast asleep? It is no matter.',\n",
       " u'    Enjoy the honey-heavy dew of slumber;',\n",
       " u'    Thou hast no figures nor no fantasies,',\n",
       " u'    Which busy care draws in the brains of men;',\n",
       " u\"    Therefore thou sleep'st so sound.\",\n",
       " u'',\n",
       " u'                           Enter Portia.',\n",
       " u'',\n",
       " u'  PORTIA. Brutus, my lord!',\n",
       " ...]"
      ]
     },
     "execution_count": 122,
     "metadata": {},
     "output_type": "execute_result"
    }
   ],
   "source": [
    "# your turn\n",
    "stop_words=open('./sparklect/english.stop.txt','r')\n",
    "stop_words_list=[]\n",
    "for items in stop_words:\n",
    "    stop_words_list.append(items.strip())\n",
    "stop_words_list\n",
    "juliusrdd=sc.textFile('./sparklect/shakes/juliuscaesar.txt')\n",
    "juliusrdd.collect()"
   ]
  },
  {
   "cell_type": "markdown",
   "metadata": {},
   "source": [
    "How many words does Julius Caesar have? *Hint: use `flatMap()`*."
   ]
  },
  {
   "cell_type": "code",
   "execution_count": null,
   "metadata": {},
   "outputs": [],
   "source": [
    "# your turn\n",
    "juliusrdd.flatMap(lambda x:x.split(\" \")).count()"
   ]
  },
  {
   "cell_type": "markdown",
   "metadata": {},
   "source": [
    "Now print the first 20 words of Julius Caesar as a Python list."
   ]
  },
  {
   "cell_type": "code",
   "execution_count": null,
   "metadata": {
    "collapsed": true
   },
   "outputs": [],
   "source": [
    "# your turn\n",
    "julius_list=juliusrdd.flatMap(lambda x:x.split(\" \")).collect()\n"
   ]
  },
  {
   "cell_type": "markdown",
   "metadata": {},
   "source": [
    "Now print the first 20 words of Julius Caesar, **after removing all the stopwords**. *Hint: use `filter()`*."
   ]
  },
  {
   "cell_type": "code",
   "execution_count": 123,
   "metadata": {},
   "outputs": [
    {
     "data": {
      "text/plain": [
       "[u'1599',\n",
       " u'THE',\n",
       " u'TRAGEDY',\n",
       " u'OF',\n",
       " u'JULIUS',\n",
       " u'CAESAR',\n",
       " u'William',\n",
       " u'Shakespeare',\n",
       " u'Dramatis',\n",
       " u'Personae',\n",
       " u'JULIUS',\n",
       " u'CAESAR,',\n",
       " u'Roman',\n",
       " u'statesman',\n",
       " u'general',\n",
       " u'OCTAVIUS,',\n",
       " u'Triumvir',\n",
       " u\"Caesar's\",\n",
       " u'death,',\n",
       " u'Augustus']"
      ]
     },
     "execution_count": 123,
     "metadata": {},
     "output_type": "execute_result"
    }
   ],
   "source": [
    "# your turn\n",
    "julius_new_rdd=juliusrdd.flatMap(lambda x:x.split(\" \")).filter(lambda x:(x not in stop_words_list) and (x!='') and x!='\"')\n",
    "julius_new_rdd.take(20)"
   ]
  },
  {
   "cell_type": "markdown",
   "metadata": {},
   "source": [
    "Now, use the word counting MapReduce code you've seen before. Count the number of times each word occurs and print the top 20 results as a list of tuples of the form `(word, count)`. *Hint: use `takeOrdered()` instead of `take()`*"
   ]
  },
  {
   "cell_type": "code",
   "execution_count": 124,
   "metadata": {
    "collapsed": true
   },
   "outputs": [],
   "source": [
    "# your turn\n",
    "julius_new_rdd1=julius_new_rdd.map(lambda x:(x,1)).reduceByKey(lambda x,y:x+y).take(20)\n"
   ]
  },
  {
   "cell_type": "markdown",
   "metadata": {},
   "source": [
    "Plot a bar graph. For each of the top 20 words on the X axis, represent the count on the Y axis."
   ]
  },
  {
   "cell_type": "code",
   "execution_count": 130,
   "metadata": {},
   "outputs": [
    {
     "data": {
      "image/png": "[encoded data removed]",
      "text/plain": [
       "<matplotlib.figure.Figure at 0x7fc86bacefd0>"
      ]
     },
     "metadata": {},
     "output_type": "display_data"
    }
   ],
   "source": [
    "# your turn\n",
    "import matplotlib.pyplot as plt\n",
    "import numpy as np\n",
    "int_values=[i[1] for i in julius_new_rdd1]\n",
    "names=[i[0] for i in julius_new_rdd1]\n",
    "y_pos=np.arange(len(julius_new_rdd1))\n",
    "plt.bar(y_pos,int_values)\n",
    "plt.xticks(y_pos,names)\n",
    "plt.show()"
   ]
  },
  {
   "cell_type": "markdown",
   "metadata": {},
   "source": [
    "The bar does not look nicely so i will only use 5 words"
   ]
  },
  {
   "cell_type": "code",
   "execution_count": 131,
   "metadata": {},
   "outputs": [
    {
     "data": {
      "image/png": "[encoded data removed]",
      "text/plain": [
       "<matplotlib.figure.Figure at 0x7fc859d849d0>"
      ]
     },
     "metadata": {},
     "output_type": "display_data"
    }
   ],
   "source": [
    "julius_new_rdd2=julius_new_rdd.map(lambda x:(x,1)).reduceByKey(lambda x,y:x+y).take(5)\n",
    "int_values=[i[1] for i in julius_new_rdd2]\n",
    "names=[i[0] for i in julius_new_rdd2]\n",
    "y_pos=np.arange(len(julius_new_rdd2))\n",
    "plt.bar(y_pos,int_values)\n",
    "plt.xticks(y_pos,names)\n",
    "plt.show()"
   ]
  },
  {
   "cell_type": "markdown",
   "metadata": {},
   "source": [
    "### Using partitions for parallelization"
   ]
  },
  {
   "cell_type": "markdown",
   "metadata": {},
   "source": [
    "In order to make your code more efficient, you want to use all of the available processing power, even on a single laptop. If your machine has multiple cores, you can tune the number of partitions to use all of them! From http://www.stat.berkeley.edu/scf/paciorek-spark-2014.html:\n",
    "\n",
    ">You want each partition to be able to fit in the memory availalbe on a node, and if you have multi-core nodes, you want that as many partitions as there are cores be able to fit in memory.\n",
    "\n",
    ">For load-balancing you'll want at least as many partitions as total computational cores in your cluster and probably rather more partitions. The Spark documentation suggests 2-4 partitions (which they also seem to call slices) per CPU. Often there are 100-10,000 partitions. Another rule of thumb is that tasks should take at least 100 ms. If less than that, you may want to repartition to have fewer partitions."
   ]
  },
  {
   "cell_type": "code",
   "execution_count": 144,
   "metadata": {
    "collapsed": true
   },
   "outputs": [],
   "source": [
    "shakesrdd=sc.textFile(\"./sparklect/shakes/*.txt\", minPartitions=4)"
   ]
  },
  {
   "cell_type": "code",
   "execution_count": 145,
   "metadata": {},
   "outputs": [
    {
     "data": {
      "text/plain": [
       "PythonRDD[104] at RDD at PythonRDD.scala:48"
      ]
     },
     "execution_count": 145,
     "metadata": {},
     "output_type": "execute_result"
    }
   ],
   "source": [
    "shakesrdd=shakesrdd.flatMap(lambda x:x.split(\" \")).filter(lambda x:(x not in stop_words_list) and (x!='') and x!='\"')\n",
    "shakesrdd"
   ]
  },
  {
   "cell_type": "markdown",
   "metadata": {},
   "source": [
    "Now calculate the top 20 words in all of the files that you just read."
   ]
  },
  {
   "cell_type": "code",
   "execution_count": 155,
   "metadata": {},
   "outputs": [
    {
     "data": {
      "text/plain": [
       "[(u'I', 8131),\n",
       " (u'And', 2873),\n",
       " (u'thou', 1668),\n",
       " (u'The', 1423),\n",
       " (u'thy', 1380),\n",
       " (u'To', 1257),\n",
       " (u'That', 1182),\n",
       " (u'But', 933),\n",
       " (u'good', 876),\n",
       " (u'A', 773),\n",
       " (u'What', 757),\n",
       " (u\"I'll\", 705),\n",
       " (u'thee', 695),\n",
       " (u'For', 682),\n",
       " (u'If', 678),\n",
       " (u'you,', 665),\n",
       " (u'hath', 656),\n",
       " (u'My', 636),\n",
       " (u'You', 623),\n",
       " (u'As', 571)]"
      ]
     },
     "execution_count": 155,
     "metadata": {},
     "output_type": "execute_result"
    }
   ],
   "source": [
    "shakesrdd.map(lambda x:(x,1)).reduceByKey(lambda x,y:x+y).sortBy(lambda x:x[1],ascending=False).take(20)"
   ]
  },
  {
   "cell_type": "markdown",
   "metadata": {},
   "source": [
    "## Optional topic 1: DataFrames\n",
    "\n",
    "Pandas and Spark dataframes can be easily converted to each other, making it easier to work with different data formats. This section shows some examples of each."
   ]
  },
  {
   "cell_type": "markdown",
   "metadata": {},
   "source": [
    "Convert Spark DataFrame to Pandas\n",
    "\n",
    "`pandas_df = spark_df.toPandas()`\n",
    "\n",
    "Create a Spark DataFrame from Pandas\n",
    "\n",
    "`spark_df = context.createDataFrame(pandas_df)`\n",
    "\n",
    "Must fit in memory.\n",
    "\n",
    "![](https://ogirardot.files.wordpress.com/2015/05/rdd-vs-dataframe.png?w=640&h=360)\n",
    "\n",
    "VERY IMPORTANT: DataFrames in Spark are like RDD in the sense that they’re an immutable data structure."
   ]
  },
  {
   "cell_type": "code",
   "execution_count": 156,
   "metadata": {},
   "outputs": [
    {
     "data": {
      "text/html": [
       "<div>\n",
       "<style>\n",
       "    .dataframe thead tr:only-child th {\n",
       "        text-align: right;\n",
       "    }\n",
       "\n",
       "    .dataframe thead th {\n",
       "        text-align: left;\n",
       "    }\n",
       "\n",
       "    .dataframe tbody tr th {\n",
       "        vertical-align: top;\n",
       "    }\n",
       "</style>\n",
       "<table border=\"1\" class=\"dataframe\">\n",
       "  <thead>\n",
       "    <tr style=\"text-align: right;\">\n",
       "      <th></th>\n",
       "      <th>Gender</th>\n",
       "      <th>Height</th>\n",
       "      <th>Weight</th>\n",
       "    </tr>\n",
       "  </thead>\n",
       "  <tbody>\n",
       "    <tr>\n",
       "      <th>0</th>\n",
       "      <td>Male</td>\n",
       "      <td>73.847017</td>\n",
       "      <td>241.893563</td>\n",
       "    </tr>\n",
       "    <tr>\n",
       "      <th>1</th>\n",
       "      <td>Male</td>\n",
       "      <td>68.781904</td>\n",
       "      <td>162.310473</td>\n",
       "    </tr>\n",
       "    <tr>\n",
       "      <th>2</th>\n",
       "      <td>Male</td>\n",
       "      <td>74.110105</td>\n",
       "      <td>212.740856</td>\n",
       "    </tr>\n",
       "    <tr>\n",
       "      <th>3</th>\n",
       "      <td>Male</td>\n",
       "      <td>71.730978</td>\n",
       "      <td>220.042470</td>\n",
       "    </tr>\n",
       "    <tr>\n",
       "      <th>4</th>\n",
       "      <td>Male</td>\n",
       "      <td>69.881796</td>\n",
       "      <td>206.349801</td>\n",
       "    </tr>\n",
       "  </tbody>\n",
       "</table>\n",
       "</div>"
      ],
      "text/plain": [
       "  Gender     Height      Weight\n",
       "0   Male  73.847017  241.893563\n",
       "1   Male  68.781904  162.310473\n",
       "2   Male  74.110105  212.740856\n",
       "3   Male  71.730978  220.042470\n",
       "4   Male  69.881796  206.349801"
      ]
     },
     "execution_count": 156,
     "metadata": {},
     "output_type": "execute_result"
    }
   ],
   "source": [
    "df=pd.read_csv(\"https://dl.dropboxusercontent.com/u/75194/stats/data/01_heights_weights_genders.csv\")\n",
    "df.head()"
   ]
  },
  {
   "cell_type": "markdown",
   "metadata": {},
   "source": [
    "Convert this pandas dataframe to a Spark dataframe"
   ]
  },
  {
   "cell_type": "code",
   "execution_count": 162,
   "metadata": {},
   "outputs": [
    {
     "data": {
      "text/plain": [
       "DataFrame[Gender: string, Height: double, Weight: double]"
      ]
     },
     "execution_count": 162,
     "metadata": {},
     "output_type": "execute_result"
    }
   ],
   "source": [
    "from pyspark.sql import SQLContext\n",
    "sqlsc=SQLContext(sc)\n",
    "sparkdf = sqlsc.createDataFrame(df)\n",
    "sparkdf"
   ]
  },
  {
   "cell_type": "code",
   "execution_count": 158,
   "metadata": {},
   "outputs": [
    {
     "name": "stdout",
     "output_type": "stream",
     "text": [
      "+------+-----------------+----------------+\n",
      "|Gender|           Height|          Weight|\n",
      "+------+-----------------+----------------+\n",
      "|  Male|  73.847017017515|241.893563180437|\n",
      "|  Male|68.78190404589029|  162.3104725213|\n",
      "|  Male|74.11010539178491|  212.7408555565|\n",
      "|  Male| 71.7309784033377|220.042470303077|\n",
      "|  Male| 69.8817958611153|206.349800623871|\n",
      "+------+-----------------+----------------+\n",
      "only showing top 5 rows\n",
      "\n"
     ]
    }
   ],
   "source": [
    "sparkdf.show(5)"
   ]
  },
  {
   "cell_type": "code",
   "execution_count": 174,
   "metadata": {},
   "outputs": [
    {
     "data": {
      "text/plain": [
       "pyspark.sql.column.Column"
      ]
     },
     "execution_count": 174,
     "metadata": {},
     "output_type": "execute_result"
    }
   ],
   "source": [
    "type(sparkdf.Gender)"
   ]
  },
  {
   "cell_type": "code",
   "execution_count": 178,
   "metadata": {},
   "outputs": [
    {
     "name": "stdout",
     "output_type": "stream",
     "text": [
      "<class 'pyspark.rdd.PipelinedRDD'>\n"
     ]
    },
    {
     "data": {
      "text/plain": [
       "[u'Male',\n",
       " u'Male',\n",
       " u'Male',\n",
       " u'Male',\n",
       " u'Male',\n",
       " u'Male',\n",
       " u'Male',\n",
       " u'Male',\n",
       " u'Male',\n",
       " u'Male']"
      ]
     },
     "execution_count": 178,
     "metadata": {},
     "output_type": "execute_result"
    }
   ],
   "source": [
    "temp = sparkdf.rdd.map(lambda r: r.Gender)\n",
    "print type(temp)\n",
    "temp.take(10)"
   ]
  },
  {
   "cell_type": "markdown",
   "metadata": {},
   "source": [
    "## Optional topic 2: Machine Learning using Spark\n",
    "\n",
    "While we don't go in-depth into machine learning using spark here, this sample code will help you get started."
   ]
  },
  {
   "cell_type": "code",
   "execution_count": 176,
   "metadata": {
    "collapsed": true
   },
   "outputs": [],
   "source": [
    "from pyspark.mllib.classification import LogisticRegressionWithLBFGS\n",
    "from pyspark.mllib.regression import LabeledPoint"
   ]
  },
  {
   "cell_type": "markdown",
   "metadata": {},
   "source": [
    "Now create a data set from the Spark dataframe"
   ]
  },
  {
   "cell_type": "code",
   "execution_count": 181,
   "metadata": {},
   "outputs": [
    {
     "data": {
      "text/plain": [
       "[LabeledPoint(1.0, [73.8470170175,241.89356318]),\n",
       " LabeledPoint(1.0, [68.7819040459,162.310472521]),\n",
       " LabeledPoint(1.0, [74.1101053918,212.740855557]),\n",
       " LabeledPoint(1.0, [71.7309784033,220.042470303]),\n",
       " LabeledPoint(1.0, [69.8817958611,206.349800624]),\n",
       " LabeledPoint(1.0, [67.2530156878,152.212155757]),\n",
       " LabeledPoint(1.0, [68.7850812517,183.927888604]),\n",
       " LabeledPoint(1.0, [68.3485155116,167.97111049]),\n",
       " LabeledPoint(1.0, [67.0189496629,175.929440396]),\n",
       " LabeledPoint(1.0, [63.4564939784,156.399676387]),\n",
       " LabeledPoint(1.0, [71.195382283,186.60492556]),\n",
       " LabeledPoint(1.0, [71.6408051192,213.741169489]),\n",
       " LabeledPoint(1.0, [64.7663291334,167.127461073]),\n",
       " LabeledPoint(1.0, [69.2830700967,189.446181387]),\n",
       " LabeledPoint(1.0, [69.2437322298,186.434168021]),\n",
       " LabeledPoint(1.0, [67.6456197004,172.186930058]),\n",
       " LabeledPoint(1.0, [72.418316626,196.02850633]),\n",
       " LabeledPoint(1.0, [63.9743257211,172.883470209]),\n",
       " LabeledPoint(1.0, [69.6400598998,185.983957573]),\n",
       " LabeledPoint(1.0, [67.936004854,182.426648013]),\n",
       " LabeledPoint(1.0, [67.9150501938,174.115929081]),\n",
       " LabeledPoint(1.0, [69.439439868,197.731421615]),\n",
       " LabeledPoint(1.0, [66.1491319609,149.173566008]),\n",
       " LabeledPoint(1.0, [75.2059736142,228.761780615]),\n",
       " LabeledPoint(1.0, [67.8931963386,162.006651848]),\n",
       " LabeledPoint(1.0, [68.1440327982,192.343976579]),\n",
       " LabeledPoint(1.0, [69.0896314289,184.435174408]),\n",
       " LabeledPoint(1.0, [72.8008435165,206.82818942]),\n",
       " LabeledPoint(1.0, [67.4212422817,175.213922399]),\n",
       " LabeledPoint(1.0, [68.4964153569,154.342638926]),\n",
       " LabeledPoint(1.0, [68.6181105502,187.506843156]),\n",
       " LabeledPoint(1.0, [74.0338076217,212.910225326]),\n",
       " LabeledPoint(1.0, [71.5282160356,195.032243234]),\n",
       " LabeledPoint(1.0, [69.1801610996,205.183621341]),\n",
       " LabeledPoint(1.0, [69.5772023654,204.164125484]),\n",
       " LabeledPoint(1.0, [70.4009288885,192.903515075]),\n",
       " LabeledPoint(1.0, [69.0761711675,197.488242599]),\n",
       " LabeledPoint(1.0, [67.1935232827,183.810973233]),\n",
       " LabeledPoint(1.0, [65.8073156549,163.851824879]),\n",
       " LabeledPoint(1.0, [64.3041878916,163.108017148]),\n",
       " LabeledPoint(1.0, [67.9743362272,172.135597407]),\n",
       " LabeledPoint(1.0, [72.1894259592,194.045404898]),\n",
       " LabeledPoint(1.0, [65.270345524,168.617746204]),\n",
       " LabeledPoint(1.0, [66.0901773763,161.193432597]),\n",
       " LabeledPoint(1.0, [67.5103215157,164.660277264]),\n",
       " LabeledPoint(1.0, [70.1047862552,188.922303151]),\n",
       " LabeledPoint(1.0, [68.2518364409,187.060552164]),\n",
       " LabeledPoint(1.0, [72.1727091158,209.07086339]),\n",
       " LabeledPoint(1.0, [69.1798576189,192.014335412]),\n",
       " LabeledPoint(1.0, [72.8703601472,211.34249682]),\n",
       " LabeledPoint(1.0, [64.782582978,165.611626182]),\n",
       " LabeledPoint(1.0, [70.1835498875,201.0719181]),\n",
       " LabeledPoint(1.0, [68.4914502529,173.423960347]),\n",
       " LabeledPoint(1.0, [67.330830881,181.407679286]),\n",
       " LabeledPoint(1.0, [66.9909440825,169.7377074]),\n",
       " LabeledPoint(1.0, [66.4995499002,163.30952831]),\n",
       " LabeledPoint(1.0, [68.3530566464,189.710209942]),\n",
       " LabeledPoint(1.0, [70.7744590704,192.124847346]),\n",
       " LabeledPoint(1.0, [71.2159236695,198.198464108]),\n",
       " LabeledPoint(1.0, [70.0133653491,209.526499837]),\n",
       " LabeledPoint(1.0, [71.4031822208,198.75979266]),\n",
       " LabeledPoint(1.0, [69.5520050948,198.079523654]),\n",
       " LabeledPoint(1.0, [73.8185345578,195.29061219]),\n",
       " LabeledPoint(1.0, [66.9968827523,164.943302997]),\n",
       " LabeledPoint(1.0, [71.4184658931,179.863902339]),\n",
       " LabeledPoint(1.0, [65.279300209,155.250420694]),\n",
       " LabeledPoint(1.0, [68.2741914742,184.519391249]),\n",
       " LabeledPoint(1.0, [72.7653699463,220.678041465]),\n",
       " LabeledPoint(1.0, [68.0993798003,183.312655307]),\n",
       " LabeledPoint(1.0, [68.8967060722,196.451312291]),\n",
       " LabeledPoint(1.0, [69.2895099633,184.5956083]),\n",
       " LabeledPoint(1.0, [70.5232245235,207.532838519]),\n",
       " LabeledPoint(1.0, [69.6637252265,177.200928752]),\n",
       " LabeledPoint(1.0, [67.5952688079,163.108002209]),\n",
       " LabeledPoint(1.0, [72.5081203801,216.218230113]),\n",
       " LabeledPoint(1.0, [71.2529856038,204.655493822]),\n",
       " LabeledPoint(1.0, [71.8091868894,200.920571219]),\n",
       " LabeledPoint(1.0, [72.2451654793,220.901769881]),\n",
       " LabeledPoint(1.0, [66.5126276609,196.449860341]),\n",
       " LabeledPoint(1.0, [66.0290340048,168.640810039]),\n",
       " LabeledPoint(1.0, [67.5771539427,181.432713008]),\n",
       " LabeledPoint(1.0, [68.2465686016,198.658673326]),\n",
       " LabeledPoint(1.0, [73.8261270026,237.916735863]),\n",
       " LabeledPoint(1.0, [69.8024643605,173.041255909]),\n",
       " LabeledPoint(1.0, [65.9595777849,160.68391664]),\n",
       " LabeledPoint(1.0, [71.0790175757,188.602919071]),\n",
       " LabeledPoint(1.0, [66.5961965372,208.345694035]),\n",
       " LabeledPoint(1.0, [68.9515350928,193.435118452]),\n",
       " LabeledPoint(1.0, [68.2444617923,174.109693791]),\n",
       " LabeledPoint(1.0, [72.3168251228,197.368589249]),\n",
       " LabeledPoint(1.0, [71.8154204495,201.620666748]),\n",
       " LabeledPoint(1.0, [65.2370495188,181.01197324]),\n",
       " LabeledPoint(1.0, [70.6405300907,182.122485979]),\n",
       " LabeledPoint(1.0, [64.7319255973,177.549263423]),\n",
       " LabeledPoint(1.0, [67.1035511824,164.974580682]),\n",
       " LabeledPoint(1.0, [65.117484888,165.71711219]),\n",
       " LabeledPoint(1.0, [71.701234023,193.094163543]),\n",
       " LabeledPoint(1.0, [66.8328782059,180.683886971]),\n",
       " LabeledPoint(1.0, [66.4712752615,172.773722928]),\n",
       " LabeledPoint(1.0, [69.4115262206,177.47061623])]"
      ]
     },
     "execution_count": 181,
     "metadata": {},
     "output_type": "execute_result"
    }
   ],
   "source": [
    "data=sparkdf.rdd.map(lambda row: LabeledPoint(row.Gender=='Male',[row.Height, row.Weight]))\n",
    "data.take(100)"
   ]
  },
  {
   "cell_type": "code",
   "execution_count": 183,
   "metadata": {},
   "outputs": [
    {
     "data": {
      "text/plain": [
       "(1.0, DenseVector([73.847, 241.8936]))"
      ]
     },
     "execution_count": 183,
     "metadata": {},
     "output_type": "execute_result"
    }
   ],
   "source": [
    "data2=sparkdf.rdd.map(lambda row: LabeledPoint(row[0]=='Male',row[1:]))\n",
    "data2.take(1)[0].label, data2.take(1)[0].features"
   ]
  },
  {
   "cell_type": "markdown",
   "metadata": {},
   "source": [
    "Split the data set into training and test sets"
   ]
  },
  {
   "cell_type": "code",
   "execution_count": 184,
   "metadata": {},
   "outputs": [
    {
     "data": {
      "text/plain": [
       "PythonRDD[219] at RDD at PythonRDD.scala:48"
      ]
     },
     "execution_count": 184,
     "metadata": {},
     "output_type": "execute_result"
    }
   ],
   "source": [
    "train, test = data.randomSplit([0.7,0.3])\n",
    "train.cache()\n",
    "test.cache()\n"
   ]
  },
  {
   "cell_type": "code",
   "execution_count": 185,
   "metadata": {},
   "outputs": [
    {
     "data": {
      "text/plain": [
       "pyspark.rdd.PipelinedRDD"
      ]
     },
     "execution_count": 185,
     "metadata": {},
     "output_type": "execute_result"
    }
   ],
   "source": [
    "type(train)"
   ]
  },
  {
   "cell_type": "markdown",
   "metadata": {},
   "source": [
    "Train the logistic regression model using MLIB"
   ]
  },
  {
   "cell_type": "code",
   "execution_count": 186,
   "metadata": {
    "collapsed": true
   },
   "outputs": [],
   "source": [
    "model = LogisticRegressionWithLBFGS.train(train)"
   ]
  },
  {
   "cell_type": "code",
   "execution_count": 187,
   "metadata": {},
   "outputs": [
    {
     "data": {
      "text/plain": [
       "DenseVector([-0.483, 0.1987])"
      ]
     },
     "execution_count": 187,
     "metadata": {},
     "output_type": "execute_result"
    }
   ],
   "source": [
    "model.weights"
   ]
  },
  {
   "cell_type": "markdown",
   "metadata": {},
   "source": [
    "Run it on the test data"
   ]
  },
  {
   "cell_type": "code",
   "execution_count": 188,
   "metadata": {},
   "outputs": [
    {
     "name": "stdout",
     "output_type": "stream",
     "text": [
      "[(1.0, 1.0), (1.0, 1.0), (1.0, 1.0), (1.0, 1.0), (1.0, 1.0), (1.0, 1.0), (1.0, 1.0), (1.0, 1.0), (1.0, 1.0), (1.0, 1.0)]\n"
     ]
    },
    {
     "data": {
      "text/plain": [
       "pyspark.rdd.PipelinedRDD"
      ]
     },
     "execution_count": 188,
     "metadata": {},
     "output_type": "execute_result"
    }
   ],
   "source": [
    "results = test.map(lambda lp: (lp.label, float(model.predict(lp.features))))\n",
    "print results.take(10)\n",
    "type(results)                       "
   ]
  },
  {
   "cell_type": "markdown",
   "metadata": {},
   "source": [
    "Measure accuracy and other metrics"
   ]
  },
  {
   "cell_type": "code",
   "execution_count": 189,
   "metadata": {},
   "outputs": [
    {
     "data": {
      "text/plain": [
       "0.9166936790923825"
      ]
     },
     "execution_count": 189,
     "metadata": {},
     "output_type": "execute_result"
    }
   ],
   "source": [
    "test_accuracy=results.filter(lambda (a,p): a==p).count()/float(results.count())\n",
    "test_accuracy"
   ]
  },
  {
   "cell_type": "code",
   "execution_count": 190,
   "metadata": {
    "collapsed": true
   },
   "outputs": [],
   "source": [
    "from pyspark.mllib.evaluation import BinaryClassificationMetrics\n",
    "metrics = BinaryClassificationMetrics(results)"
   ]
  },
  {
   "cell_type": "code",
   "execution_count": 191,
   "metadata": {},
   "outputs": [
    {
     "name": "stdout",
     "output_type": "stream",
     "text": [
      "<class 'pyspark.mllib.evaluation.BinaryClassificationMetrics'>\n"
     ]
    },
    {
     "data": {
      "text/plain": [
       "0.9167090549857071"
      ]
     },
     "execution_count": 191,
     "metadata": {},
     "output_type": "execute_result"
    }
   ],
   "source": [
    "print type(metrics)\n",
    "metrics.areaUnderROC"
   ]
  },
  {
   "cell_type": "code",
   "execution_count": 192,
   "metadata": {},
   "outputs": [
    {
     "data": {
      "text/plain": [
       "pyspark.mllib.classification.LogisticRegressionModel"
      ]
     },
     "execution_count": 192,
     "metadata": {},
     "output_type": "execute_result"
    }
   ],
   "source": [
    "type(model)"
   ]
  },
  {
   "cell_type": "code",
   "execution_count": 193,
   "metadata": {
    "collapsed": true
   },
   "outputs": [],
   "source": [
    "!rm -rf mylogistic.model"
   ]
  },
  {
   "cell_type": "code",
   "execution_count": 194,
   "metadata": {
    "collapsed": true
   },
   "outputs": [],
   "source": [
    "model.save(sc, \"mylogistic.model\")"
   ]
  },
  {
   "cell_type": "markdown",
   "metadata": {},
   "source": [
    "The pipeline API automates a lot of this stuff, allowing us to work directly on dataframes. It is not all supported in Python, as yet. "
   ]
  },
  {
   "cell_type": "markdown",
   "metadata": {},
   "source": [
    "Also see:\n",
    "\n",
    "- http://jordicasanellas.weebly.com/data-science-blog/machine-learning-with-spark\n",
    "- http://spark.apache.org/docs/latest/mllib-guide.html\n",
    "- http://www.techpoweredmath.com/spark-dataframes-mllib-tutorial/\n",
    "- http://spark.apache.org/docs/latest/api/python/\n",
    "- http://spark.apache.org/docs/latest/programming-guide.html"
   ]
  },
  {
   "cell_type": "markdown",
   "metadata": {},
   "source": [
    "`rdd.saveAsTextFile()` saves an RDD as a string."
   ]
  },
  {
   "cell_type": "code",
   "execution_count": 195,
   "metadata": {
    "collapsed": true
   },
   "outputs": [],
   "source": [
    "sc.stop()"
   ]
  },
  {
   "cell_type": "code",
   "execution_count": null,
   "metadata": {
    "collapsed": true
   },
   "outputs": [],
   "source": []
  }
 ],
 "metadata": {
  "kernelspec": {
   "display_name": "Python 2",
   "language": "python",
   "name": "python2"
  },
  "language_info": {
   "codemirror_mode": {
    "name": "ipython",
    "version": 2
   },
   "file_extension": ".py",
   "mimetype": "text/x-python",
   "name": "python",
   "nbconvert_exporter": "python",
   "pygments_lexer": "ipython2",
   "version": "2.7.13"
  }
 },
 "nbformat": 4,
 "nbformat_minor": 1
}
